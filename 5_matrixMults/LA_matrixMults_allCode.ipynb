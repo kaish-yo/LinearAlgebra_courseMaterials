{
 "cells": [
  {
   "cell_type": "markdown",
   "metadata": {},
   "source": [
    "#     COURSE: Linear algebra: theory and implementation\n",
    "##    SECTION: Matrix multiplications\n",
    "\n",
    "#### Instructor: sincxpress.com\n",
    "##### Course url: https://www.udemy.com/course/linear-algebra-theory-and-implementation/?couponCode=202110"
   ]
  },
  {
   "cell_type": "code",
   "execution_count": 307,
   "metadata": {},
   "outputs": [],
   "source": [
    "import numpy as np\n",
    "import matplotlib.pyplot as plt\n",
    "import math"
   ]
  },
  {
   "cell_type": "markdown",
   "metadata": {},
   "source": [
    "\n",
    "---\n",
    "# VIDEO: Standard matrix multiplication, parts 1 & 2\n",
    "---\n"
   ]
  },
  {
   "cell_type": "code",
   "execution_count": 21,
   "metadata": {},
   "outputs": [
    {
     "name": "stdout",
     "output_type": "stream",
     "text": [
      "[[-0.25879427  0.29692155 -1.05913603]\n",
      " [ 0.06322483  1.59336947  0.5759096 ]\n",
      " [-0.77090829 -0.07387902  0.34766989]\n",
      " [ 0.32246011  1.48075497  0.57613261]]\n",
      "\n",
      "[[-0.37708246 -1.570685   -0.12276749 -0.2229074   1.61081735  0.78080604]\n",
      " [ 0.87159369  0.20800281 -0.48187882  0.49812393  0.48338257 -1.05136256]\n",
      " [-1.25515244 -0.81776952  0.45633006 -0.94059253  0.00323316  1.1692684 ]]\n",
      "\n",
      "[[ 1.59735254 -2.4984212  -1.11925358  0.86210772  0.18674571  1.81316696]\n",
      " [-0.38084525 -0.9821362  -0.61363211  0.42092294  0.51386143 -1.10298025]\n",
      " [ 0.94172439 -0.668      -0.88520374  1.43442503 -1.2342819  -0.63255514]\n",
      " [-0.57582689 -0.76396465 -1.3577264   0.8707297   0.55563532  0.15388627]]\n",
      "\n",
      "---\n"
     ]
    }
   ],
   "source": [
    "## rules for multiplication validity\n",
    "\n",
    "m = 4\n",
    "n = 3\n",
    "k = 6\n",
    "\n",
    "# make some matrices\n",
    "A = np.random.randn(m,n)\n",
    "B = np.random.randn(n,k)\n",
    "C = np.random.randn(m,k)\n",
    "print(A),print('')\n",
    "print(B),print('')\n",
    "print(C),print('')\n",
    "print('---')\n",
    "## test which multiplications are valid.\n",
    "## Think of your answer first, then test.\n",
    "# print(np.matmul(A,B)) # valid\n",
    "# np.matmul(A,A) # not valid\n",
    "# np.matmul(A.T,A) # valid \n",
    "# np.matmul(A.T,C) # valid\n",
    "# np.matmul(B,B.T) # valid\n",
    "# np.matmul(np.matrix.transpose(B),B) # valid\n",
    "# np.matmul(B,C) # not valid\n",
    "# np.matmul(C,B) # not valid\n",
    "# np.matmul(C.T,B) # not valid\n",
    "# np.matmul(C,B.T) # valid"
   ]
  },
  {
   "cell_type": "markdown",
   "metadata": {},
   "source": [
    "## Code challenge: matrix multiplication by layering"
   ]
  },
  {
   "cell_type": "code",
   "execution_count": 64,
   "metadata": {},
   "outputs": [
    {
     "name": "stdout",
     "output_type": "stream",
     "text": [
      "[[-0.  4.  5.]\n",
      " [-4. -0.  4.]]\n",
      "\n",
      "[[-1.  9.]\n",
      " [-2.  1.]\n",
      " [-5.  5.]]\n"
     ]
    }
   ],
   "source": [
    "## implement matrix multiplication via layers\n",
    "# generate matrices (A,B)\n",
    "m = 2\n",
    "n = 3\n",
    "A = np.round(6*np.random.randn(m,n))\n",
    "B = np.round(6*np.random.randn(n,m))\n",
    "print(A),print()\n",
    "print(B)"
   ]
  },
  {
   "cell_type": "code",
   "execution_count": 65,
   "metadata": {},
   "outputs": [
    {
     "name": "stdout",
     "output_type": "stream",
     "text": [
      "[[  0.   0.]\n",
      " [  4. -36.]]\n",
      "\n",
      "[[ -8.   4.]\n",
      " [  4. -36.]]\n",
      "\n",
      "[[-33.  29.]\n",
      " [-16. -16.]]\n",
      "\n"
     ]
    }
   ],
   "source": [
    "# build the product matrix layer-wise (for-loop)\n",
    "C1 = np.zeros((m,m))\n",
    "for i in range(n):\n",
    "    C1 += np.outer(A[:,i],B[i,:])\n",
    "    print(C1),print('')\n",
    "# print('---')\n",
    "# print(C1)"
   ]
  },
  {
   "cell_type": "code",
   "execution_count": 66,
   "metadata": {},
   "outputs": [
    {
     "name": "stdout",
     "output_type": "stream",
     "text": [
      "[[-33.  29.]\n",
      " [-16. -16.]]\n"
     ]
    }
   ],
   "source": [
    "C2 = np.dot(A,B)\n",
    "print(C2)"
   ]
  },
  {
   "cell_type": "markdown",
   "metadata": {},
   "source": [
    "\n",
    "---\n",
    "# VIDEO: Order-of-operations on matrices\n",
    "---\n"
   ]
  },
  {
   "cell_type": "code",
   "execution_count": 2,
   "metadata": {},
   "outputs": [
    {
     "data": {
      "text/plain": [
       "array([[ 0.00000000e+00, -2.22044605e-16,  0.00000000e+00,\n",
       "         1.77635684e-15, -3.55271368e-15, -1.33226763e-15,\n",
       "        -4.44089210e-16],\n",
       "       [-2.88657986e-15, -7.10542736e-15,  2.10942375e-15,\n",
       "        -7.10542736e-15, -8.88178420e-16, -3.55271368e-15,\n",
       "        -6.66133815e-16],\n",
       "       [ 0.00000000e+00, -7.99360578e-15,  4.44089210e-16,\n",
       "         3.55271368e-15, -3.55271368e-15, -3.55271368e-15,\n",
       "        -2.22044605e-16],\n",
       "       [-5.32907052e-15,  2.22044605e-15, -4.44089210e-16,\n",
       "         0.00000000e+00,  3.55271368e-15,  0.00000000e+00,\n",
       "         1.77635684e-15],\n",
       "       [ 0.00000000e+00,  5.32907052e-15, -1.33226763e-15,\n",
       "         0.00000000e+00, -5.32907052e-15,  0.00000000e+00,\n",
       "        -8.88178420e-16],\n",
       "       [ 1.77635684e-15, -1.06581410e-14,  2.30371278e-15,\n",
       "         1.77635684e-15, -5.32907052e-15, -1.77635684e-15,\n",
       "        -2.22044605e-16],\n",
       "       [ 0.00000000e+00, -4.44089210e-15,  2.66453526e-15,\n",
       "         0.00000000e+00,  5.32907052e-15, -2.66453526e-15,\n",
       "         8.88178420e-16]])"
      ]
     },
     "execution_count": 2,
     "metadata": {},
     "output_type": "execute_result"
    }
   ],
   "source": [
    "\n",
    "n = 7\n",
    "L = np.random.randn(n,n)\n",
    "I = np.random.randn(n,n)\n",
    "V = np.random.randn(n,n)\n",
    "E = np.random.randn(n,n)\n",
    "\n",
    "# result of \"forward\" multiplication and then transpose\n",
    "res1 = np.matrix.transpose( L @ I @ V @ E )\n",
    "\n",
    "# result of \"flipped\" multiplication of transposed matrices\n",
    "res2 = E.T @ V.T @ I.T @ L.T\n",
    "\n",
    "# test equality by subtracting (ignore possible computer rounding errors)\n",
    "res1-res2"
   ]
  },
  {
   "cell_type": "markdown",
   "metadata": {},
   "source": [
    "\n",
    "---\n",
    "# VIDEO: Matrix-vector multiplication\n",
    "---\n"
   ]
  },
  {
   "cell_type": "code",
   "execution_count": 8,
   "metadata": {},
   "outputs": [
    {
     "name": "stdout",
     "output_type": "stream",
     "text": [
      "N=array([[-10,  10,   0,  -1],\n",
      "       [  5,  -8,   2,  -8],\n",
      "       [ -6, -10,  -7,  -4],\n",
      "       [  9,   4,   2,   8]])\n",
      "S=array([[ 6.,  3.,  0., -1.],\n",
      "       [ 3.,  4., -1., -2.],\n",
      "       [ 0., -1.,  3., -0.],\n",
      "       [-1., -2., -0.,  4.]])\n",
      "---\n",
      "[-8. -8.  3.  9.]\n",
      "[-8. -8.  3.  9.]\n",
      "[-8. -8.  3.  9.]\n",
      "[-8. -8.  3.  9.]\n",
      "[-8. -8.  3.  9.]\n",
      " \n",
      "[  8 -19  -9   9]\n",
      "[ 22 -12  -3  13]\n",
      "[ 22 -12  -3  13]\n",
      "[  8 -19  -9   9]\n",
      "[ 22 -12  -3  13]\n"
     ]
    }
   ],
   "source": [
    "\n",
    "# number of elements\n",
    "m = 4\n",
    "\n",
    "# create matrices\n",
    "N = np.random.randint(-10,11,(m,m))\n",
    "S = np.round( N.T*N / m**2 ) # scaled symmetric\n",
    "\n",
    "print(f\"{N=}\")\n",
    "print(f\"{S=}\")\n",
    "print(\"---\")\n",
    "\n",
    "# and vectory/\n",
    "w = np.array([-1, 0, 1, 2])\n",
    "\n",
    "# with symmetric matrix\n",
    "print( S@w )     # 1\n",
    "print( S.T@w )   # 2\n",
    "print( w@S )     # 3\n",
    "print( w.T@S.T ) # 4\n",
    "print( w.T@S )   # 5\n",
    "print(\" \")\n",
    "# with nonsymmetric matrix\n",
    "print( N@w )     # 1\n",
    "print( N.T@w )   # 2\n",
    "print( w@N )     # 3\n",
    "print( w.T@N.T ) # 4\n",
    "print( w.T@N )   # 5\n"
   ]
  },
  {
   "cell_type": "markdown",
   "metadata": {},
   "source": [
    "\n",
    "---\n",
    "# VIDEO: 2D transformation matrices\n",
    "---\n"
   ]
  },
  {
   "cell_type": "code",
   "execution_count": 21,
   "metadata": {},
   "outputs": [
    {
     "data": {
      "image/png": "[encoded data removed]",
      "text/plain": [
       "<Figure size 432x432 with 1 Axes>"
      ]
     },
     "metadata": {
      "needs_background": "light"
     },
     "output_type": "display_data"
    }
   ],
   "source": [
    "# 2D input vector\n",
    "v = np.array([ 3, -2 ])\n",
    "\n",
    "# 2x2 transformation matrix\n",
    "# A = np.array([ [1,-1], [2,1] ])\n",
    "theta = np.pi/12\n",
    "A = np.array([ [np.cos(theta),-np.sin(theta)], [np.sin(theta),np.cos(theta)] ])\n",
    "\n",
    "# output vector is Av (convert v to column)\n",
    "w = A@np.matrix.transpose(v)\n",
    "\n",
    "\n",
    "# plot them\n",
    "plt.figure(figsize=(6,6))\n",
    "\n",
    "plt.plot([0,v[0]],[0,v[1]],label='v')\n",
    "plt.plot([0,w[0]],[0,w[1]],label='Av')\n",
    "\n",
    "plt.grid()\n",
    "plt.axis((-6, 6, -6, 6))\n",
    "plt.legend()\n",
    "plt.title('Rotation + stretching')\n",
    "plt.show()"
   ]
  },
  {
   "cell_type": "code",
   "execution_count": 25,
   "metadata": {},
   "outputs": [
    {
     "data": {
      "image/png": "[encoded data removed]",
      "text/plain": [
       "<Figure size 432x432 with 1 Axes>"
      ]
     },
     "metadata": {
      "needs_background": "light"
     },
     "output_type": "display_data"
    }
   ],
   "source": [
    "## pure rotation\n",
    "\n",
    "# 2D input vector\n",
    "v = np.array([ 3, -2 ])\n",
    "\n",
    "# 2x2 rotation matrix\n",
    "th = 5*np.pi/180\n",
    "A = np.array([ [math.cos(th),-math.sin(th)], [math.sin(th),math.cos(th)] ])\n",
    "\n",
    "# output vector is Av (convert v to column)\n",
    "w = A@np.matrix.transpose(v)\n",
    "\n",
    "\n",
    "# plot them\n",
    "plt.figure(figsize=(6,6))\n",
    "\n",
    "plt.plot([0,v[0]],[0,v[1]],label='v')\n",
    "plt.plot([0,w[0]],[0,w[1]],label='Av')\n",
    "\n",
    "plt.grid()\n",
    "plt.axis((-4, 4, -4, 4))\n",
    "plt.legend()\n",
    "plt.title('Pure rotation')\n",
    "plt.show()"
   ]
  },
  {
   "cell_type": "markdown",
   "metadata": {},
   "source": [
    "# Code Challenge: Pure and impure rotation matrices"
   ]
  },
  {
   "cell_type": "code",
   "execution_count": 29,
   "metadata": {},
   "outputs": [
    {
     "data": {
      "text/plain": [
       "array([0.        , 0.33069396, 0.66138793, 0.99208189, 1.32277585,\n",
       "       1.65346982, 1.98416378, 2.31485774, 2.64555171, 2.97624567,\n",
       "       3.30693964, 3.6376336 , 3.96832756, 4.29902153, 4.62971549,\n",
       "       4.96040945, 5.29110342, 5.62179738, 5.95249134, 6.28318531])"
      ]
     },
     "execution_count": 29,
     "metadata": {},
     "output_type": "execute_result"
    }
   ],
   "source": [
    "np.linspace(0,2*np.pi,20)"
   ]
  },
  {
   "cell_type": "code",
   "execution_count": 44,
   "metadata": {},
   "outputs": [
    {
     "data": {
      "image/png": "[encoded data removed]",
      "text/plain": [
       "<Figure size 432x432 with 1 Axes>"
      ]
     },
     "metadata": {
      "needs_background": "light"
     },
     "output_type": "display_data"
    }
   ],
   "source": [
    "## pure rotation\n",
    "# 2D input vector\n",
    "v = np.array([ 3, -2 ])\n",
    "\n",
    "# 2x2 rotation matrix\n",
    "angs = np.linspace(0,2*np.pi,20)\n",
    "\n",
    "\n",
    "# plot them\n",
    "plt.figure(figsize=(6,6))\n",
    "plt.grid()\n",
    "plt.axis((-4, 4, -4, 4))\n",
    "plt.title('Pure rotation')\n",
    "for ang in angs:\n",
    "    th = ang\n",
    "    A = np.array([ [math.cos(th),-math.sin(th)], [math.sin(th),math.cos(th)] ])\n",
    "    # output vector is Av (convert v to column)\n",
    "    w = A@np.matrix.transpose(v)\n",
    "    plt.plot([0,v[0]],[0,v[1]],label='v')\n",
    "    plt.plot([0,w[0]],[0,w[1]],label='Av')\n",
    "# plt.legend()\n",
    "plt.show()"
   ]
  },
  {
   "cell_type": "code",
   "execution_count": 43,
   "metadata": {},
   "outputs": [
    {
     "data": {
      "image/png": "[encoded data removed]",
      "text/plain": [
       "<Figure size 432x432 with 1 Axes>"
      ]
     },
     "metadata": {
      "needs_background": "light"
     },
     "output_type": "display_data"
    }
   ],
   "source": [
    "## impure rotation\n",
    "# 2D input vector\n",
    "v = np.array([ 3, -2 ])\n",
    "\n",
    "# 2x2 rotation matrix\n",
    "angs = np.linspace(0,2*np.pi,20)\n",
    "\n",
    "\n",
    "# plot them\n",
    "plt.figure(figsize=(6,6))\n",
    "plt.grid()\n",
    "plt.axis((-4, 4, -4, 4))\n",
    "plt.title('Impure rotation')\n",
    "for ang in angs:\n",
    "    th = ang\n",
    "    A = np.array([ [2*math.cos(th),-math.sin(th)], [math.sin(th),3*math.cos(th)] ])\n",
    "    # output vector is Av (convert v to column)\n",
    "    w = A@np.matrix.transpose(v)\n",
    "    plt.plot([0,v[0]],[0,v[1]],label='v')\n",
    "    plt.plot([0,w[0]],[0,w[1]],label='Av')\n",
    "# plt.legend()\n",
    "plt.show()"
   ]
  },
  {
   "cell_type": "markdown",
   "metadata": {},
   "source": [
    "# Code challenge: Geometric transformations via matrix multiplications"
   ]
  },
  {
   "cell_type": "code",
   "execution_count": 152,
   "metadata": {},
   "outputs": [],
   "source": [
    "# np.vstack((np.cos(x),np.sin(x))).T # jsut to see how it work"
   ]
  },
  {
   "cell_type": "code",
   "execution_count": 157,
   "metadata": {},
   "outputs": [
    {
     "name": "stdout",
     "output_type": "stream",
     "text": [
      "(100, 2)\n"
     ]
    },
    {
     "data": {
      "image/png": "[encoded data removed]",
      "text/plain": [
       "<Figure size 432x288 with 1 Axes>"
      ]
     },
     "metadata": {
      "needs_background": "light"
     },
     "output_type": "display_data"
    }
   ],
   "source": [
    "# generate XY coordinates for a circle\n",
    "x = np.linspace(-np.pi, np.pi,100)\n",
    "xy = np.vstack((np.cos(x),np.sin(x))).T\n",
    "print(np.shape(xy))\n",
    "# print(xy)\n",
    "\n",
    "# plot the circle\n",
    "plt.plot(xy[:,0],xy[:,1],'ro') # x = cos(t), y = sin(x)\n",
    "\n",
    "# create a 2x matrix\n",
    "# T = np.array([[1,2],[2,1]])\n",
    "# T = np.array([[1,1],[0,1]])\n",
    "T = np.array([[1,0],[0,1]])\n",
    "\n",
    "# multiply matrix by coords\n",
    "newxy = xy@T\n",
    "\n",
    "# plot the new coords\n",
    "plt.plot(newxy[:,0],newxy[:,1],'bx')\n",
    "\n",
    "plt.axis('square')\n",
    "plt.show()"
   ]
  },
  {
   "cell_type": "markdown",
   "metadata": {},
   "source": [
    "\n",
    "---\n",
    "# VIDEO: Additive and multiplicative matrix identities\n",
    "---\n"
   ]
  },
  {
   "cell_type": "code",
   "execution_count": 161,
   "metadata": {},
   "outputs": [],
   "source": [
    "# size of matrices\n",
    "n = 4\n",
    "\n",
    "# create the matrices\n",
    "A = np.round( 10*np.random.randn(n,n) )\n",
    "I = np.eye(n)\n",
    "Z = np.zeros((n,n))\n",
    "\n",
    "# test both identities\n",
    "# np.array_equal( A@I , A   ) # true\n",
    "# np.array_equal( A   , A@I ) # true\n",
    "# np.array_equal( A   , A+I ) # false\n",
    "# np.array_equal( A   , A+I ) # false\n",
    "# np.array_equal( A+Z , A@I ) #  true"
   ]
  },
  {
   "cell_type": "markdown",
   "metadata": {},
   "source": [
    "\n",
    "---\n",
    "# VIDEO: Additive and multiplicative symmetric matrices\n",
    "---\n"
   ]
  },
  {
   "cell_type": "code",
   "execution_count": 162,
   "metadata": {},
   "outputs": [
    {
     "name": "stdout",
     "output_type": "stream",
     "text": [
      "[[ 0.6187688   0.42727919 -0.68681576  0.72914689  1.64437807]\n",
      " [ 0.42727919 -0.31563318 -0.26272535  1.15200584 -0.66723895]\n",
      " [-0.68681576 -0.26272535  0.08438944  0.4813943   0.56011791]\n",
      " [ 0.72914689  1.15200584  0.4813943   1.5376633  -0.48642215]\n",
      " [ 1.64437807 -0.66723895  0.56011791 -0.48642215  0.11275883]]\n",
      "\n",
      "[[0. 0. 0. 0. 0.]\n",
      " [0. 0. 0. 0. 0.]\n",
      " [0. 0. 0. 0. 0.]\n",
      " [0. 0. 0. 0. 0.]\n",
      " [0. 0. 0. 0. 0.]]\n"
     ]
    }
   ],
   "source": [
    "## the additive method\n",
    "\n",
    "# specify sizes\n",
    "m = 5\n",
    "n = 5\n",
    "\n",
    "# create matrices\n",
    "A = np.random.randn(m,n)\n",
    "S = ( A + A.T )/2\n",
    "\n",
    "print(S),print('')\n",
    "\n",
    "# A symmetric matrix minus its transpose should be all zeros\n",
    "print( S-S.T )"
   ]
  },
  {
   "cell_type": "code",
   "execution_count": 163,
   "metadata": {},
   "outputs": [
    {
     "name": "stdout",
     "output_type": "stream",
     "text": [
      "(3, 3)\n",
      "(5, 5)\n",
      "[[0. 0. 0.]\n",
      " [0. 0. 0.]\n",
      " [0. 0. 0.]]\n",
      "[[0. 0. 0. 0. 0.]\n",
      " [0. 0. 0. 0. 0.]\n",
      " [0. 0. 0. 0. 0.]\n",
      " [0. 0. 0. 0. 0.]\n",
      " [0. 0. 0. 0. 0.]]\n"
     ]
    }
   ],
   "source": [
    "## the multiplicative method\n",
    "\n",
    "# specify sizes\n",
    "m = 5\n",
    "n = 3\n",
    "\n",
    "# create matrices\n",
    "A   = np.random.randn(m,n)\n",
    "AtA = A.T@A\n",
    "AAt = A@A.T\n",
    "\n",
    "# first, show that they are square\n",
    "print( AtA.shape )\n",
    "print( AAt.shape )\n",
    "\n",
    "\n",
    "# next, show that they are symmetric\n",
    "print( AtA - AtA.T )\n",
    "print( AAt - AAt.T )"
   ]
  },
  {
   "cell_type": "markdown",
   "metadata": {},
   "source": [
    "\n",
    "---\n",
    "# VIDEO: Element-wise (Hadamard) multiplication\n",
    "---\n"
   ]
  },
  {
   "cell_type": "code",
   "execution_count": 82,
   "metadata": {},
   "outputs": [
    {
     "name": "stdout",
     "output_type": "stream",
     "text": [
      "[[-0.17606167 -0.22586552]\n",
      " [-1.14690594 -1.40538641]\n",
      " [-1.44591915 -0.03605498]\n",
      " [ 1.55795672  0.34777311]\n",
      " [ 0.05416971 -1.47973434]\n",
      " [-0.0334197   0.00394923]\n",
      " [ 0.04102395 -0.05728845]\n",
      " [ 1.0650903   0.19000595]\n",
      " [-0.42684886 -1.23853392]\n",
      " [ 0.25999198  2.28518175]\n",
      " [-1.13042353  0.98159231]\n",
      " [-0.05961203 -0.21415435]\n",
      " [-0.02824758 -0.04808227]]\n",
      " \n",
      "[[-0.17606167 -0.22586552]\n",
      " [-1.14690594 -1.40538641]\n",
      " [-1.44591915 -0.03605498]\n",
      " [ 1.55795672  0.34777311]\n",
      " [ 0.05416971 -1.47973434]\n",
      " [-0.0334197   0.00394923]\n",
      " [ 0.04102395 -0.05728845]\n",
      " [ 1.0650903   0.19000595]\n",
      " [-0.42684886 -1.23853392]\n",
      " [ 0.25999198  2.28518175]\n",
      " [-1.13042353  0.98159231]\n",
      " [-0.05961203 -0.21415435]\n",
      " [-0.02824758 -0.04808227]]\n",
      " \n",
      "[[0. 0.]\n",
      " [0. 0.]\n",
      " [0. 0.]\n",
      " [0. 0.]\n",
      " [0. 0.]\n",
      " [0. 0.]\n",
      " [0. 0.]\n",
      " [0. 0.]\n",
      " [0. 0.]\n",
      " [0. 0.]\n",
      " [0. 0.]\n",
      " [0. 0.]\n",
      " [0. 0.]]\n"
     ]
    }
   ],
   "source": [
    "# any matrix sizes\n",
    "m = 13\n",
    "n =  2\n",
    "\n",
    "# ...but the two matrices must be the same size\n",
    "A = np.random.randn(m,n)\n",
    "B = np.random.randn(m,n)\n",
    "\n",
    "# note the different syntax compared to @ for matrix multiplication\n",
    "C1 = np.multiply( A,B )\n",
    "C2 = A*B\n",
    "\n",
    "print(C1), print(' ')\n",
    "print(C2), print(' ')\n",
    "\n",
    "print(C1-C2)\n"
   ]
  },
  {
   "cell_type": "markdown",
   "metadata": {},
   "source": [
    "# Code challenge: symmetry of combined symmetric matrices"
   ]
  },
  {
   "cell_type": "code",
   "execution_count": 164,
   "metadata": {},
   "outputs": [],
   "source": [
    "# compute two symetric metrices\n",
    "m = 3\n",
    "\n",
    "N1 = np.random.randn(m,m)\n",
    "N2 = np.random.randn(m,m)\n",
    "\n",
    "## make it symmetric\n",
    "S1 = N1.T@N1 \n",
    "S2 = N2.T@N2 "
   ]
  },
  {
   "cell_type": "code",
   "execution_count": 165,
   "metadata": {},
   "outputs": [
    {
     "name": "stdout",
     "output_type": "stream",
     "text": [
      "[[ 6.50272755 -1.65148694  1.57976683]\n",
      " [-1.65148694  0.87417648 -1.56813273]\n",
      " [ 1.57976683 -1.56813273  4.91108073]]\n",
      "\n",
      "[[ 0.76925405 -0.12179956  0.63569035]\n",
      " [-0.12179956  0.36720408  0.5143036 ]\n",
      " [ 0.63569035  0.5143036   1.70618041]]\n"
     ]
    }
   ],
   "source": [
    "print(S1),print()\n",
    "print(S2)"
   ]
  },
  {
   "cell_type": "code",
   "execution_count": 166,
   "metadata": {},
   "outputs": [
    {
     "name": "stdout",
     "output_type": "stream",
     "text": [
      "[[ 7.2719816  -1.77328651  2.21545717]\n",
      " [-1.77328651  1.24138056 -1.05382912]\n",
      " [ 2.21545717 -1.05382912  6.61726113]]\n"
     ]
    }
   ],
   "source": [
    "# compute sum, multiplication, and Hadamard multiplication of the two matrices\n",
    "## sum\n",
    "print(S1+S2)"
   ]
  },
  {
   "cell_type": "code",
   "execution_count": 167,
   "metadata": {},
   "outputs": [
    {
     "name": "stdout",
     "output_type": "stream",
     "text": [
      "[[ 6.20764239 -0.58598233  5.97972265]\n",
      " [-2.37373416 -0.28434476 -3.27575952]\n",
      " [ 4.52816651  1.75754688  8.57693592]]\n"
     ]
    }
   ],
   "source": [
    "## multiplication (inner product)\n",
    "print(S1@S2)"
   ]
  },
  {
   "cell_type": "code",
   "execution_count": 168,
   "metadata": {},
   "outputs": [
    {
     "name": "stdout",
     "output_type": "stream",
     "text": [
      "[[ 5.00224948  0.20115039  1.00424252]\n",
      " [ 0.20115039  0.32100117 -0.80649631]\n",
      " [ 1.00424252 -0.80649631  8.37918971]]\n"
     ]
    }
   ],
   "source": [
    "## Hadamard multiplication\n",
    "print(S1*S2)"
   ]
  },
  {
   "cell_type": "code",
   "execution_count": 93,
   "metadata": {},
   "outputs": [],
   "source": [
    "# determine whether the result is still symmetric"
   ]
  },
  {
   "cell_type": "markdown",
   "metadata": {},
   "source": [
    "\n",
    "---\n",
    "# VIDEO: Multiplication of two symmetric matrices\n",
    "---\n"
   ]
  },
  {
   "cell_type": "code",
   "execution_count": 177,
   "metadata": {},
   "outputs": [
    {
     "name": "stdout",
     "output_type": "stream",
     "text": [
      "Matrix([[0, 0, 0, 0], [0, 0, 0, 0], [0, 0, 0, 0], [0, 0, 0, 0]])\n",
      "Matrix([[0, 0, 0, 0], [0, 0, 0, 0], [0, 0, 0, 0], [0, 0, 0, 0]])\n",
      "a\n",
      "a\n",
      "a\n",
      "a\n",
      "l\n",
      "l\n",
      "l\n",
      "l\n"
     ]
    }
   ],
   "source": [
    "# using the sympy library\n",
    "from sympy import *\n",
    "\n",
    "a,b,c,d,e,f,g,h,k,l,m,n,o,p,q,r,s,t,u = symbols('a b c d e f g h k l m n o p q r s t u', real=True)\n",
    "\n",
    "# symmetric and constant-diagonal matrices\n",
    "A = Matrix([ [a,b,c,d],\n",
    "             [b,a,e,f],\n",
    "             [c,e,a,h],\n",
    "             [d,f,h,a]   ])\n",
    "\n",
    "B = Matrix([ [l,m,n,o],\n",
    "             [m,l,q,r],\n",
    "             [n,q,l,t],\n",
    "             [o,r,t,l]   ])\n",
    "\n",
    "\n",
    "# confirmation that A and B are symmetric\n",
    "print( A - A.transpose() )\n",
    "print( B - B.transpose() )\n",
    "\n",
    "# ... and constant diagonal\n",
    "for i in range(0,np.size(A,0)):\n",
    "    print( A[i,i] )\n",
    "for i in range(0,np.size(B,0)):\n",
    "    print( B[i,i] )\n"
   ]
  },
  {
   "cell_type": "code",
   "execution_count": 178,
   "metadata": {},
   "outputs": [
    {
     "data": {
      "text/latex": [
       "$\\displaystyle \\left[\\begin{matrix}0 & c q - e n & b q - e m\\\\- c q + e n & 0 & b n - c m\\\\- b q + e m & - b n + c m & 0\\end{matrix}\\right]$"
      ],
      "text/plain": [
       "⎡    0       c⋅q - e⋅n   b⋅q - e⋅m⎤\n",
       "⎢                                 ⎥\n",
       "⎢-c⋅q + e⋅n      0       b⋅n - c⋅m⎥\n",
       "⎢                                 ⎥\n",
       "⎣-b⋅q + e⋅m  -b⋅n + c⋅m      0    ⎦"
      ]
     },
     "execution_count": 178,
     "metadata": {},
     "output_type": "execute_result"
    }
   ],
   "source": [
    "# nice printing in sympy\n",
    "init_printing()\n",
    "\n",
    "# but AB neq (AB)'\n",
    "# A@B - (A@B).T\n",
    "\n",
    "# maybe for a submatrix?\n",
    "n = 3\n",
    "A1 = A[ 0:n,0:n ]\n",
    "B1 = B[ 0:n,0:n ]\n",
    "\n",
    "A1@B1 - (A1@B1).T"
   ]
  },
  {
   "cell_type": "markdown",
   "metadata": {},
   "source": [
    "# Code challenge: standard and Hadamard multiplication for diagonal matrices"
   ]
  },
  {
   "cell_type": "code",
   "execution_count": 189,
   "metadata": {},
   "outputs": [],
   "source": [
    "# create two metrices (4x4): \"full\" and diagonal\n",
    "A = np.random.randn(4,4)\n",
    "D = np.diag(np.random.randn(4))\n",
    "# multiply each matrix by itself (A*A): standard and hadamard multiplications\n",
    "AdotA = A@A\n",
    "AtdotA = A.T@A\n",
    "AxA = A*A\n",
    "DtD = D@D\n",
    "DxD = D*D"
   ]
  },
  {
   "cell_type": "code",
   "execution_count": 191,
   "metadata": {},
   "outputs": [
    {
     "name": "stdout",
     "output_type": "stream",
     "text": [
      "[[-0.57753585  0.89687781  2.79454383 -0.81489612]\n",
      " [-2.8538954  -2.4690854  -0.70083099  1.86412281]\n",
      " [-0.6956039   0.55083945  0.66591503  1.62812192]\n",
      " [-2.50179141  0.70673403  2.14778524  0.43534243]]\n"
     ]
    }
   ],
   "source": [
    "print(AdotA)"
   ]
  },
  {
   "cell_type": "code",
   "execution_count": 192,
   "metadata": {},
   "outputs": [
    {
     "name": "stdout",
     "output_type": "stream",
     "text": [
      "[[ 3.44290224  0.77913536 -0.3114733  -0.98094908]\n",
      " [ 0.77913536  4.4133957   3.48947596 -1.76511973]\n",
      " [-0.3114733   3.48947596  3.91399961 -0.79175507]\n",
      " [-0.98094908 -1.76511973 -0.79175507  2.58582544]]\n"
     ]
    }
   ],
   "source": [
    "print(AtdotA)"
   ]
  },
  {
   "cell_type": "code",
   "execution_count": 193,
   "metadata": {},
   "outputs": [
    {
     "name": "stdout",
     "output_type": "stream",
     "text": [
      "[[1.57168426 1.83760056 1.41547262 0.87705477]\n",
      " [1.61782867 0.44886199 1.09310527 0.36655883]\n",
      " [0.22945208 0.10079359 0.45221734 1.3054892 ]\n",
      " [0.02393723 2.02613955 0.95320438 0.03672263]]\n"
     ]
    }
   ],
   "source": [
    "print(AxA)"
   ]
  },
  {
   "cell_type": "code",
   "execution_count": 194,
   "metadata": {},
   "outputs": [
    {
     "name": "stdout",
     "output_type": "stream",
     "text": [
      "[[0.96707038 0.         0.         0.        ]\n",
      " [0.         1.33695096 0.         0.        ]\n",
      " [0.         0.         0.10646782 0.        ]\n",
      " [0.         0.         0.         0.10453754]]\n"
     ]
    }
   ],
   "source": [
    "print(DtD)"
   ]
  },
  {
   "cell_type": "code",
   "execution_count": 195,
   "metadata": {},
   "outputs": [
    {
     "name": "stdout",
     "output_type": "stream",
     "text": [
      "[[0.96707038 0.         0.         0.        ]\n",
      " [0.         1.33695096 0.         0.        ]\n",
      " [0.         0.         0.10646782 0.        ]\n",
      " [0.         0.         0.         0.10453754]]\n"
     ]
    }
   ],
   "source": [
    "print(DxD)"
   ]
  },
  {
   "cell_type": "markdown",
   "metadata": {},
   "source": [
    "# Code Challenge: Fourier transform via matrix multiplication"
   ]
  },
  {
   "cell_type": "code",
   "execution_count": 249,
   "metadata": {},
   "outputs": [],
   "source": [
    "n = 50\n",
    "M = np.random.randint(-10,11,(n,n)) # square matrix with integers\n",
    "\n",
    "F = np.zeros([n,n], dtype=complex)\n",
    "\n",
    "for r in range(n):\n",
    "    for c in range(n):\n",
    "        w = np.exp((-2*np.pi*1j)/n)\n",
    "        m = r*c\n",
    "        F[r,c] = w**m"
   ]
  },
  {
   "cell_type": "code",
   "execution_count": 250,
   "metadata": {},
   "outputs": [
    {
     "data": {
      "image/png": "[encoded data removed]",
      "text/plain": [
       "<Figure size 432x288 with 1 Axes>"
      ]
     },
     "metadata": {
      "needs_background": "light"
     },
     "output_type": "display_data"
    }
   ],
   "source": [
    "plt.imshow(F.real, cmap='jet')\n",
    "plt.show()"
   ]
  },
  {
   "cell_type": "code",
   "execution_count": 251,
   "metadata": {},
   "outputs": [
    {
     "name": "stdout",
     "output_type": "stream",
     "text": [
      "X1 == X2: True\n"
     ]
    }
   ],
   "source": [
    "x = np.random.randn(n)\n",
    "X1 = F@x\n",
    "\n",
    "X2 = np.fft.fft(x)\n",
    "print(f'X1 == X2: {np.allclose(X1, X2)}')"
   ]
  },
  {
   "cell_type": "code",
   "execution_count": 252,
   "metadata": {},
   "outputs": [
    {
     "data": {
      "image/png": "[encoded data removed]",
      "text/plain": [
       "<Figure size 432x288 with 1 Axes>"
      ]
     },
     "metadata": {
      "needs_background": "light"
     },
     "output_type": "display_data"
    },
    {
     "data": {
      "image/png": "[encoded data removed]",
      "text/plain": [
       "<Figure size 432x288 with 1 Axes>"
      ]
     },
     "metadata": {
      "needs_background": "light"
     },
     "output_type": "display_data"
    }
   ],
   "source": [
    "# plot them\n",
    "plt.figure()\n",
    "plt.plot(abs(X1))\n",
    "plt.plot(abs(X2), marker='o', color='r', linestyle='None')\n",
    "plt.show()\n",
    "plt.plot(F.real[:,25])\n",
    "plt.show()"
   ]
  },
  {
   "cell_type": "markdown",
   "metadata": {},
   "source": [
    "\n",
    "---\n",
    "# VIDEO: Frobenius dot-product\n",
    "---\n"
   ]
  },
  {
   "cell_type": "code",
   "execution_count": 255,
   "metadata": {},
   "outputs": [
    {
     "name": "stdout",
     "output_type": "stream",
     "text": [
      "0.2991253911191736\n",
      "0.2991253911191727\n",
      "\n",
      "6.2797307516444505\n",
      "6.279730751644451\n"
     ]
    }
   ],
   "source": [
    "# any matrix sizes\n",
    "m = 9\n",
    "n = 4\n",
    "\n",
    "# but the two matrices must be the same size\n",
    "A = np.random.randn(m,n)\n",
    "B = np.random.randn(m,n)\n",
    "\n",
    "# first vectorize, then vector-dot-product\n",
    "Av = np.reshape( A,m*n, order='F' ) # order='F' reshapes by columns instead of by rows\n",
    "Bv = np.reshape( B,m*n, order='F' )\n",
    "frob_dp = np.dot( Av,Bv )\n",
    "\n",
    "# trace method\n",
    "frob_dp2 = np.trace( A.T@B )\n",
    "print(frob_dp2)\n",
    "print(frob_dp),print()\n",
    "# matrix norm\n",
    "Anorm  = np.linalg.norm(A,'fro')\n",
    "Anorm2 = np.sqrt( np.trace( A.T@A ) )\n",
    "print(Anorm)\n",
    "print(Anorm2)"
   ]
  },
  {
   "cell_type": "markdown",
   "metadata": {},
   "source": [
    "# VIDEO: Matrix norms"
   ]
  },
  {
   "cell_type": "code",
   "execution_count": 197,
   "metadata": {},
   "outputs": [
    {
     "name": "stdout",
     "output_type": "stream",
     "text": [
      "16.431676725154983 16.431676725154986 16.392007827749776\n"
     ]
    }
   ],
   "source": [
    "# Create a matrix\n",
    "A = np.array([ [1,2,3], [4,5,6], [7,7,9] ])\n",
    "\n",
    "# optional orthogonal matrix to show that 2-norm is 1\n",
    "Q,R = np.linalg.qr(np.random.randn(5,5))\n",
    "# A = Q\n",
    "\n",
    "# Frobenius norm\n",
    "normFrob = np.linalg.norm(A,'fro')s\n",
    "\n",
    "# induced 2-norm\n",
    "normInd2 = np.linalg.norm(A,2)\n",
    "# note: computed as below\n",
    "lamb = np.sqrt( np.max(np.linalg.eig(A.T@A)[0]) )\n",
    "\n",
    "# schatten p-norm\n",
    "p = 2\n",
    "s = np.linalg.svd(A)[1] # get singular values\n",
    "normSchat = np.sum(s**p)**(1/p)\n",
    "\n",
    "\n",
    "# % show all norms for comparison\n",
    "print(normFrob,normSchat,normInd2)\n"
   ]
  },
  {
   "cell_type": "markdown",
   "metadata": {},
   "source": [
    "# Code challenge: conditions for self-adjoint"
   ]
  },
  {
   "cell_type": "code",
   "execution_count": 283,
   "metadata": {},
   "outputs": [],
   "source": [
    "import numpy as np\n",
    "\n",
    "m = 5\n",
    "A = np.random.randn(m,m)\n",
    "A = A@A.T # symmetric matrix\n",
    "\n",
    "v = np.random.randn(m)\n",
    "w = np.random.rand(m)"
   ]
  },
  {
   "cell_type": "code",
   "execution_count": 284,
   "metadata": {},
   "outputs": [
    {
     "name": "stdout",
     "output_type": "stream",
     "text": [
      "[[ 6.47906693  0.6469873  -5.19059285  1.82926575  0.67429136]\n",
      " [ 0.6469873   2.90067078 -2.27107592  2.08868557 -2.46163318]\n",
      " [-5.19059285 -2.27107592  8.45301354 -0.73701499 -0.70126577]\n",
      " [ 1.82926575  2.08868557 -0.73701499  3.50289792 -4.10561493]\n",
      " [ 0.67429136 -2.46163318 -0.70126577 -4.10561493  8.25996116]]\n"
     ]
    }
   ],
   "source": [
    "print(A)"
   ]
  },
  {
   "cell_type": "code",
   "execution_count": 285,
   "metadata": {},
   "outputs": [
    {
     "name": "stdout",
     "output_type": "stream",
     "text": [
      "[ 2.41106135  0.29193567  0.63743935 -1.18760502  0.07708679]\n"
     ]
    }
   ],
   "source": [
    "print(v)"
   ]
  },
  {
   "cell_type": "code",
   "execution_count": 286,
   "metadata": {},
   "outputs": [
    {
     "name": "stdout",
     "output_type": "stream",
     "text": [
      "[0.67874609 0.89248037 0.2819408  0.71014178 0.01806036]\n"
     ]
    }
   ],
   "source": [
    "print(w)"
   ]
  },
  {
   "cell_type": "code",
   "execution_count": 287,
   "metadata": {},
   "outputs": [
    {
     "name": "stdout",
     "output_type": "stream",
     "text": [
      "0.0\n"
     ]
    }
   ],
   "source": [
    "print(np.round(np.dot(A@v,w) - np.dot(v,A@w)))"
   ]
  },
  {
   "cell_type": "markdown",
   "metadata": {},
   "source": [
    "# Code challenge: The matrix asymmetry index"
   ]
  },
  {
   "cell_type": "code",
   "execution_count": 300,
   "metadata": {},
   "outputs": [],
   "source": [
    "# Testing Matrix asymmetry index\n",
    "A = np.array([[1,2],[3,4]])\n",
    "A_ti = (A - A.T)/2\n",
    "a_i = np.linalg.norm(A_ti)/np.linalg.norm(A)dd"
   ]
  },
  {
   "cell_type": "code",
   "execution_count": 302,
   "metadata": {},
   "outputs": [
    {
     "name": "stdout",
     "output_type": "stream",
     "text": [
      "0.12909944487358058\n"
     ]
    }
   ],
   "source": [
    "print(a_i)"
   ]
  },
  {
   "cell_type": "code",
   "execution_count": 315,
   "metadata": {},
   "outputs": [],
   "source": [
    "## part 1: implement MAI\n",
    "\n",
    "def MAI(A):\n",
    "    Aanti = (A-A.T)/2\n",
    "    mai = np.linalg.norm(Aanti)/np.linalg.norm(A)\n",
    "    return mai"
   ]
  },
  {
   "cell_type": "code",
   "execution_count": 320,
   "metadata": {},
   "outputs": [
    {
     "name": "stdout",
     "output_type": "stream",
     "text": [
      "[[-0.93431485 -0.2393318  -0.36662889 -0.78565592 -0.32201879]\n",
      " [-0.2393318   0.01396343  0.02583364  0.44706672 -1.77652451]\n",
      " [-0.36662889  0.02583364  1.02535707  1.0511129   0.4351865 ]\n",
      " [-0.78565592  0.44706672  1.0511129   1.75757593  1.72918984]\n",
      " [-0.32201879 -1.77652451  0.4351865   1.72918984  0.3735215 ]]\n",
      "\n",
      "0.0\n"
     ]
    }
   ],
   "source": [
    "## part 2: compute MAI for symmetric, skew-symmetric, and random matrix\n",
    "### symmetric matrix\n",
    "A = np.random.randn(5,5)\n",
    "A = (A + A.T) / 2\n",
    "print(A),print()\n",
    "print(MAI(A))"
   ]
  },
  {
   "cell_type": "code",
   "execution_count": 321,
   "metadata": {},
   "outputs": [
    {
     "name": "stdout",
     "output_type": "stream",
     "text": [
      "[[ 0.          1.12603062 -0.70954676  0.64286949  0.72534119]\n",
      " [-1.12603062  0.          0.70186301 -0.77944988  0.19399889]\n",
      " [ 0.70954676 -0.70186301  0.         -0.00517768  0.28136472]\n",
      " [-0.64286949  0.77944988  0.00517768  0.         -1.14300256]\n",
      " [-0.72534119 -0.19399889 -0.28136472  1.14300256  0.        ]]\n",
      "\n",
      "1.0\n"
     ]
    }
   ],
   "source": [
    "### skew matrix\n",
    "A = np.random.randn(5,5)\n",
    "A = (A - A.T) / 2\n",
    "print(A),print()\n",
    "print(MAI(A))"
   ]
  },
  {
   "cell_type": "code",
   "execution_count": 342,
   "metadata": {},
   "outputs": [],
   "source": [
    "## part 3: formula for mixing skew/symmetric matrices\n",
    "p = 0\n",
    "A = np.random.randn(5,5)\n",
    "B = (1-p)*(A+A.T)/2 + p*(A-A.T)/2"
   ]
  },
  {
   "cell_type": "code",
   "execution_count": 343,
   "metadata": {},
   "outputs": [
    {
     "data": {
      "text/plain": [
       "array([[ 0.76152297,  0.77756763,  1.21909165,  0.79830823,  0.93937616],\n",
       "       [ 0.77756763, -0.64529556, -0.75547607, -0.56421623, -0.30513114],\n",
       "       [ 1.21909165, -0.75547607,  1.13761436,  0.47497295,  0.11953313],\n",
       "       [ 0.79830823, -0.56421623,  0.47497295,  0.91625225, -0.66224242],\n",
       "       [ 0.93937616, -0.30513114,  0.11953313, -0.66224242, -1.13864856]])"
      ]
     },
     "execution_count": 343,
     "metadata": {},
     "output_type": "execute_result"
    }
   ],
   "source": [
    "B"
   ]
  },
  {
   "cell_type": "code",
   "execution_count": 348,
   "metadata": {},
   "outputs": [
    {
     "data": {
      "image/png": "[encoded data removed]",
      "text/plain": [
       "<Figure size 432x288 with 1 Axes>"
      ]
     },
     "metadata": {
      "needs_background": "light"
     },
     "output_type": "display_data"
    }
   ],
   "source": [
    "## part 4: test on random matrices\n",
    "ps = np.linspace(0,1,101)\n",
    "A = np.random.randn(5,5)\n",
    "mai = np.zeros(len(ps))\n",
    "\n",
    "for i in range(len(ps)):\n",
    "    # create a matrix\n",
    "    p = ps[i]\n",
    "    B = (1-p)*(A+A.T)/2 + p*(A-A.T)/2\n",
    "    # compute and store the MAI\n",
    "    mai[i] = MAI(B)\n",
    "    \n",
    "plt.plot(ps,mai,'s-')\n",
    "plt.show()"
   ]
  }
 ],
 "metadata": {
  "kernelspec": {
   "display_name": "Python 3",
   "language": "python",
   "name": "python3"
  },
  "language_info": {
   "codemirror_mode": {
    "name": "ipython",
    "version": 3
   },
   "file_extension": ".py",
   "mimetype": "text/x-python",
   "name": "python",
   "nbconvert_exporter": "python",
   "pygments_lexer": "ipython3",
   "version": "3.8.5"
  }
 },
 "nbformat": 4,
 "nbformat_minor": 4
}
