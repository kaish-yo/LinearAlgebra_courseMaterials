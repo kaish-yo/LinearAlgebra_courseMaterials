{
 "cells": [
  {
   "cell_type": "markdown",
   "metadata": {},
   "source": [
    "# Code challenge: determinant of small and large singular matrices"
   ]
  },
  {
   "cell_type": "code",
   "execution_count": 1,
   "metadata": {},
   "outputs": [],
   "source": [
    "import numpy as np\n",
    "from sympy import *\n",
    "import matplotlib.pyplot as plt"
   ]
  },
  {
   "cell_type": "code",
   "execution_count": 8,
   "metadata": {},
   "outputs": [
    {
     "data": {
      "text/plain": [
       "array([[1, 0, 0, 0],\n",
       "       [0, 1, 0, 0],\n",
       "       [0, 0, 1, 0],\n",
       "       [0, 0, 0, 1]], dtype=object)"
      ]
     },
     "execution_count": 8,
     "metadata": {},
     "output_type": "execute_result"
    }
   ],
   "source": [
    "# singular matrix (reduced-rank matrix) has a determinant of 0\n",
    "mat = Matrix(np.random.randn(4,4))\n",
    "mat_rref = np.array(mat.rref()[0])\n",
    "mat_rref"
   ]
  },
  {
   "cell_type": "code",
   "execution_count": 22,
   "metadata": {},
   "outputs": [
    {
     "name": "stdout",
     "output_type": "stream",
     "text": [
      "[[3 3]\n",
      " [6 6]]\n",
      "\n",
      "1\n",
      "0\n"
     ]
    }
   ],
   "source": [
    "# generate a 2x2 matrix of integers, and with linear dependencies\n",
    "mat = np.random.randint(1,11,(2,2))\n",
    "mat[:,0] = mat[:,1]\n",
    "print(mat),print()\n",
    "# compute the ranks\n",
    "print(np.linalg.matrix_rank(mat))\n",
    "print(round(np.linalg.det(mat)))"
   ]
  },
  {
   "cell_type": "code",
   "execution_count": 73,
   "metadata": {},
   "outputs": [
    {
     "name": "stdout",
     "output_type": "stream",
     "text": [
      "[[ 5  5  5  0  9  3  8  3  4  7]\n",
      " [ 8  8  1  0  0  7  8  5  7  3]\n",
      " [ 0  0  0  8 10 10  7  1  1  4]\n",
      " [10 10  5  3  9  0  2 10  9  2]\n",
      " [ 6  6  7  8  9  3  0  6  2  6]\n",
      " [10 10  0  2 10  5  5  0  7  2]\n",
      " [ 7  7  3  3  1  1  0  1  5  9]\n",
      " [10 10  1  6  8  4 10  3  0  3]\n",
      " [10 10  5  9  2  9  4  3 10  7]\n",
      " [ 8  8  9  5  4  8  2  7 10  0]]\n",
      "\n",
      "9\n",
      "0\n"
     ]
    }
   ],
   "source": [
    "# generate mxm matrices, impose linear dependencies\n",
    "m = 10\n",
    "mat = np.random.randint(0,11,(m,m))\n",
    "# mat[:,:] = mat[:,0] # all the columns are same\n",
    "mat[:,0] = mat[:,1] # only one column is the same\n",
    "\n",
    "print(mat),print()\n",
    "# compute the rank\n",
    "print(np.linalg.matrix_rank(mat))\n",
    "print(round(np.linalg.det(mat)))\n",
    "# small m and for large m "
   ]
  },
  {
   "cell_type": "code",
   "execution_count": 96,
   "metadata": {},
   "outputs": [
    {
     "name": "stdout",
     "output_type": "stream",
     "text": [
      "2.672228198061215e+18\n",
      "\n",
      "[[ 2  2  2  7  4  9  2  4  2  2  3  6  3  3  5  8 10  0  3  0]\n",
      " [ 2  2 10  0  5  0  0  1  0  4  9  8  9  6  2  1  8  5  7  5]\n",
      " [ 9  9  5  6  1  3 10  4  4  3  3  3  1  5  6  6  8  9  0  8]\n",
      " [10 10  4  3  3  9  2  6  5  9 10  2  6  3  3  0  5  9  5  8]\n",
      " [ 5  5  4  5  9  3  6  2  6  2  0  5 10  2  5  3 10  6  7  2]\n",
      " [ 3  3  7  8  4  3  7  3  1  9  3  7  1  5  3  0  0  5  6  3]\n",
      " [ 2  2  9  3  9  0  7  6  1  3  1  6  3  0 10 10  8  7 10  7]\n",
      " [ 1  1  8  5  5  1  9  4  4  2  4  9  2  5  6  7  1  3  1  4]\n",
      " [ 0  0  7  7  9  1  7  7  3  7  7  4  1  3  0  8  7  3  7  1]\n",
      " [ 6  6  3  0  2  9  3  1  5  1  0  5  0  0  1  5  8  8  0  0]\n",
      " [ 1  1  7  5  6  0  0 10  5  4  2  6  0  7  1  2  7  7  0  1]\n",
      " [ 5  5  3  8  8  3  2  8  5  8  3  5  5  2  0  2  7  9  1  0]\n",
      " [ 4  4  0  9  0  2  0  4  5  3  6  3  4  0  8  7  1  8  6  0]\n",
      " [ 5  5  8  2  6  3  4  1  7  4 10 10  7  9  3  3  4  4  7  5]\n",
      " [ 7  7  9 10  8  3  5  2  6  1  0  3  9  7  6  4  3  9  6  8]\n",
      " [ 7  7  2 10 10  5  1  2  2  4  8  2  5  9  0  5  7  7  6  9]\n",
      " [10 10  0  8 10  8  2  4  8  6  6  4  0  7  8  5  6  2 10  7]\n",
      " [ 4  4  2  4  1  1  0  6  1  2  9  7  2  8 10 10  5  3  3  9]\n",
      " [ 0  0  5  3  9 10  4  1  4  7  8  3  8  4  0  4 10  4  1  4]\n",
      " [ 4  4  7  0  2  4  0  3  0  1  8  4  1  0 10  3  4  6  1  8]]\n",
      "\n",
      "19\n",
      "-30.61\n"
     ]
    }
   ],
   "source": [
    "# small m and for large m \n",
    "\n",
    "# generate mxm matrices, impose linear dependencies\n",
    "m = 20\n",
    "mat = np.random.randint(0,11,(m,m))\n",
    "print(np.linalg.det(mat)),print()\n",
    "# mat[:,:] = mat[:,0] # all the columns are same\n",
    "mat[:,0] = mat[:,1] # only one column is the same\n",
    "\n",
    "print(mat),print()\n",
    "# compute the rank\n",
    "print(np.linalg.matrix_rank(mat))\n",
    "print(np.round(np.linalg.det(mat),decimals=2))"
   ]
  },
  {
   "cell_type": "markdown",
   "metadata": {},
   "source": [
    "should be zero, but not for some reason..."
   ]
  },
  {
   "cell_type": "markdown",
   "metadata": {},
   "source": [
    "# Code challenge: large matrices with row exchanges"
   ]
  },
  {
   "cell_type": "code",
   "execution_count": 98,
   "metadata": {},
   "outputs": [
    {
     "name": "stdout",
     "output_type": "stream",
     "text": [
      "[[9 5 7 1 7 7]\n",
      " [0 5 7 0 5 3]\n",
      " [1 4 2 3 7 3]\n",
      " [7 6 2 1 3 6]\n",
      " [3 8 7 0 6 1]\n",
      " [6 4 8 5 4 1]]\n"
     ]
    }
   ],
   "source": [
    "# generate 6x6 matrix\n",
    "M = np.random.randint(0,11,(6,6))\n",
    "print(M)"
   ]
  },
  {
   "cell_type": "code",
   "execution_count": 99,
   "metadata": {},
   "outputs": [
    {
     "data": {
      "text/plain": [
       "-47301.000000000065"
      ]
     },
     "execution_count": 99,
     "metadata": {},
     "output_type": "execute_result"
    }
   ],
   "source": [
    "# - compute the determinant\n",
    "np.linalg.det(M)"
   ]
  },
  {
   "cell_type": "code",
   "execution_count": 100,
   "metadata": {},
   "outputs": [
    {
     "name": "stdout",
     "output_type": "stream",
     "text": [
      "[[0 5 7 0 5 3]\n",
      " [9 5 7 1 7 7]\n",
      " [1 4 2 3 7 3]\n",
      " [7 6 2 1 3 6]\n",
      " [3 8 7 0 6 1]\n",
      " [6 4 8 5 4 1]]\n"
     ]
    }
   ],
   "source": [
    "# - swap one row, det again\n",
    "M_one = M.copy()\n",
    "M_one[0,:] = M[1,:]\n",
    "M_one[1,:] = M[0,:]\n",
    "print(M_one)"
   ]
  },
  {
   "cell_type": "code",
   "execution_count": 101,
   "metadata": {},
   "outputs": [
    {
     "data": {
      "text/plain": [
       "47301.000000000065"
      ]
     },
     "execution_count": 101,
     "metadata": {},
     "output_type": "execute_result"
    }
   ],
   "source": [
    "np.linalg.det(M_one)"
   ]
  },
  {
   "cell_type": "code",
   "execution_count": 102,
   "metadata": {},
   "outputs": [
    {
     "name": "stdout",
     "output_type": "stream",
     "text": [
      "[[0 5 7 0 5 3]\n",
      " [9 5 7 1 7 7]\n",
      " [7 6 2 1 3 6]\n",
      " [1 4 2 3 7 3]\n",
      " [3 8 7 0 6 1]\n",
      " [6 4 8 5 4 1]]\n"
     ]
    }
   ],
   "source": [
    "# - swap two rows, det again\n",
    "M_two = M.copy()\n",
    "M_two[0,:] = M[1,:]\n",
    "M_two[1,:] = M[0,:]\n",
    "M_two[2,:] = M[3,:]\n",
    "M_two[3,:] = M[2,:]\n",
    "\n",
    "print(M_two)"
   ]
  },
  {
   "cell_type": "code",
   "execution_count": 103,
   "metadata": {},
   "outputs": [
    {
     "data": {
      "text/plain": [
       "-47301.000000000065"
      ]
     },
     "execution_count": 103,
     "metadata": {},
     "output_type": "execute_result"
    }
   ],
   "source": [
    "np.linalg.det(M_two)"
   ]
  },
  {
   "cell_type": "markdown",
   "metadata": {},
   "source": [
    "# Code challenge: determinant of shifted matrices"
   ]
  },
  {
   "cell_type": "code",
   "execution_count": null,
   "metadata": {},
   "outputs": [],
   "source": [
    "# generate a 20x20 random matrix\n",
    "# impose a linear dependence\n",
    "# \"shift\" the matrix (0->.1 times the identity matrix) (lambda)\n",
    "# compute abs(determinant)\n",
    "# repeat 1000 times, take average abs det\n",
    "# plot det by lambda"
   ]
  },
  {
   "cell_type": "code",
   "execution_count": 106,
   "metadata": {},
   "outputs": [
    {
     "data": {
      "text/plain": [
       "Text(0.5, 0, 'determinant')"
      ]
     },
     "execution_count": 106,
     "metadata": {},
     "output_type": "execute_result"
    },
    {
     "data": {
      "image/png": "[encoded data removed]",
      "text/plain": [
       "<Figure size 432x288 with 1 Axes>"
      ]
     },
     "metadata": {
      "needs_background": "light"
     },
     "output_type": "display_data"
    }
   ],
   "source": [
    "lambdas = np.linspace(0,.1,30)\n",
    "\n",
    "# initialize\n",
    "tmp = np.zeros(1000)\n",
    "dets = np.zeros(len(lambdas))\n",
    "\n",
    "for deti in range(len(lambdas)):\n",
    "    # run 1000 iterations\n",
    "    for i in range(1000):\n",
    "        M = np.random.randn(20,20)\n",
    "        M[:,0] = M[:,1]\n",
    "        # compute the determinant\n",
    "        tmp[i] = abs(np.linalg.det(M + lambdas[deti]*np.eye(20)))\n",
    "    # compute average determinant\n",
    "    dets[deti] = np.mean(tmp)\n",
    "\n",
    "plt.plot(lambdas,dets,'s-')\n",
    "plt.xlabel('Fraction of identity for shifting')\n",
    "plt.xlabel('determinant')"
   ]
  },
  {
   "cell_type": "markdown",
   "metadata": {},
   "source": [
    "# Code challenge: determinant of shifted matrices"
   ]
  },
  {
   "cell_type": "code",
   "execution_count": 120,
   "metadata": {},
   "outputs": [],
   "source": [
    "# illustrate that det(AB) = det(A)*det(B)\n",
    "# 1) for a random 3x3 matrix\n",
    "M1 = np.random.randn(3,3)\n",
    "M2 = np.random.randn(3,3)\n",
    "\n",
    "M1_det = np.linalg.det(M1)\n",
    "M2_det = np.linalg.det(M2)"
   ]
  },
  {
   "cell_type": "code",
   "execution_count": 121,
   "metadata": {},
   "outputs": [
    {
     "name": "stdout",
     "output_type": "stream",
     "text": [
      "-20.7254997755839\n"
     ]
    }
   ],
   "source": [
    "print(M12_det - M1_det * M2_det)"
   ]
  },
  {
   "cell_type": "code",
   "execution_count": 122,
   "metadata": {},
   "outputs": [
    {
     "name": "stdout",
     "output_type": "stream",
     "text": [
      "[[-0.22289072 -0.64527885  0.89015676]\n",
      " [-1.36206884  0.38624323  0.1607256 ]\n",
      " [-0.22941927 -0.06329046  0.36168688]]\n"
     ]
    }
   ],
   "source": [
    "print(M)"
   ]
  },
  {
   "cell_type": "code",
   "execution_count": 144,
   "metadata": {},
   "outputs": [],
   "source": [
    "# 2) in a loop over random matrix sizes up to 40x40\n",
    "\n",
    "results = np.zeros(len(range(2,41)))\n",
    "for i in range(2,41):\n",
    "    M1 = np.random.randn(i,i)\n",
    "    M2 = np.random.randn(i,i)\n",
    "\n",
    "    M1_det = np.linalg.det(M1)\n",
    "    M2_det = np.linalg.det(M2)\n",
    "    M12_det - M1_det * M2_det\n",
    "    results[i-2] = M12_det - M1_det * M2_det"
   ]
  },
  {
   "cell_type": "code",
   "execution_count": 145,
   "metadata": {},
   "outputs": [
    {
     "data": {
      "image/png": "[encoded data removed]",
      "text/plain": [
       "<Figure size 432x288 with 1 Axes>"
      ]
     },
     "metadata": {
      "needs_background": "light"
     },
     "output_type": "display_data"
    }
   ],
   "source": [
    "# plt.ylim([-1,1])\n",
    "plt.plot(results,'s-')\n",
    "plt.show()"
   ]
  },
  {
   "cell_type": "code",
   "execution_count": 126,
   "metadata": {},
   "outputs": [
    {
     "data": {
      "text/plain": [
       "-2.5905613348265283e+45"
      ]
     },
     "execution_count": 126,
     "metadata": {},
     "output_type": "execute_result"
    }
   ],
   "source": [
    "results.min()"
   ]
  },
  {
   "cell_type": "code",
   "execution_count": 127,
   "metadata": {},
   "outputs": [
    {
     "data": {
      "text/plain": [
       "4.350474457253261e+45"
      ]
     },
     "execution_count": 127,
     "metadata": {},
     "output_type": "execute_result"
    }
   ],
   "source": [
    "results.max()"
   ]
  },
  {
   "cell_type": "code",
   "execution_count": null,
   "metadata": {},
   "outputs": [],
   "source": []
  }
 ],
 "metadata": {
  "kernelspec": {
   "display_name": "Python 3",
   "language": "python",
   "name": "python3"
  },
  "language_info": {
   "codemirror_mode": {
    "name": "ipython",
    "version": 3
   },
   "file_extension": ".py",
   "mimetype": "text/x-python",
   "name": "python",
   "nbconvert_exporter": "python",
   "pygments_lexer": "ipython3",
   "version": "3.8.5"
  }
 },
 "nbformat": 4,
 "nbformat_minor": 4
}
