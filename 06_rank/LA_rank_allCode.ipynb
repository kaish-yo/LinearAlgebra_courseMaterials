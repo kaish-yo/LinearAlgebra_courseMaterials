{
 "cells": [
  {
   "cell_type": "markdown",
   "metadata": {},
   "source": [
    "#     COURSE: Linear algebra: theory and implementation\n",
    "##    SECTION: Matrix rank\n",
    "\n",
    "#### Instructor: sincxpress.com\n",
    "##### Course url: https://www.udemy.com/course/linear-algebra-theory-and-implementation/?couponCode=202110"
   ]
  },
  {
   "cell_type": "code",
   "execution_count": 2,
   "metadata": {},
   "outputs": [],
   "source": [
    "import numpy as np\n",
    "import matplotlib.pyplot as plt\n",
    "import math"
   ]
  },
  {
   "cell_type": "markdown",
   "metadata": {},
   "source": [
    "\n",
    "---\n",
    "# VIDEO: Computing rank: theory and practice\n",
    "---\n"
   ]
  },
  {
   "cell_type": "code",
   "execution_count": 4,
   "metadata": {},
   "outputs": [
    {
     "name": "stdout",
     "output_type": "stream",
     "text": [
      "rank = 4\n",
      "[[-1.18855987  1.03950767 -0.95407542  0.44021775 -0.20890917  0.49606906]\n",
      " [-0.48629294  0.30246798  0.06169722  0.48123894  0.93360843  1.26174243]\n",
      " [-0.19867198 -0.08470144  0.38041321  1.06531806 -0.69407146 -0.44530253]\n",
      " [-0.19867198 -0.08470144  0.38041321  1.06531806 -0.69407146 -0.44530253]]\n",
      "rank = 3\n"
     ]
    }
   ],
   "source": [
    "# make a matrix\n",
    "m = 4\n",
    "n = 6\n",
    "\n",
    "# create a random matrix\n",
    "A = np.random.randn(m,n)\n",
    "\n",
    "# what is the largest possible rank?\n",
    "ra = np.linalg.matrix_rank(A)\n",
    "print('rank = ' + str(ra))\n",
    "\n",
    "# # set last column to be repeat of penultimate column\n",
    "# B = A\n",
    "# B[:,-1] = B[:,-2]\n",
    "# print(B)\n",
    "\n",
    "# set last row to be repeat of penultimate column\n",
    "B = A\n",
    "B[-1,:] = B[-2,:]\n",
    "print(B)\n",
    "\n",
    "rb = np.linalg.matrix_rank(B)\n",
    "print('rank = ' + str(rb))"
   ]
  },
  {
   "cell_type": "code",
   "execution_count": 5,
   "metadata": {},
   "outputs": [
    {
     "name": "stdout",
     "output_type": "stream",
     "text": [
      "rank (w/o noise) = 3\n",
      "rank (with noise) = 4\n"
     ]
    }
   ],
   "source": [
    "## adding noise to a rank-deficient matrix\n",
    "\n",
    "# square for convenience\n",
    "A = np.round( 10*np.random.randn(m,m) )\n",
    "\n",
    "# reduce the rank\n",
    "A[:,-1] = A[:,-2]\n",
    "\n",
    "# noise level\n",
    "noiseamp = .0001\n",
    "\n",
    "# add the noise\n",
    "B = A + noiseamp*np.random.randn(m,m)\n",
    "\n",
    "print('rank (w/o noise) = ' + str(np.linalg.matrix_rank(A)))\n",
    "print('rank (with noise) = ' + str(np.linalg.matrix_rank(B)))\n"
   ]
  },
  {
   "cell_type": "markdown",
   "metadata": {},
   "source": [
    "# Code challenge: reduced-rank matrix via multiplication"
   ]
  },
  {
   "cell_type": "code",
   "execution_count": 22,
   "metadata": {},
   "outputs": [
    {
     "name": "stdout",
     "output_type": "stream",
     "text": [
      "(10, 10)\n",
      "4\n"
     ]
    }
   ],
   "source": [
    "# create a 10x10 matrix with rank=4 (use matrix multipliation)\n",
    "A = np.random.randn(10,4)\n",
    "B = np.random.randn(4,10)\n",
    "C = A@B\n",
    "\n",
    "print(np.shape(C))\n",
    "print(np.linalg.matrix_rank(C))"
   ]
  },
  {
   "cell_type": "code",
   "execution_count": 6,
   "metadata": {},
   "outputs": [
    {
     "name": "stdout",
     "output_type": "stream",
     "text": [
      "(50, 47)\n",
      "5\n"
     ]
    }
   ],
   "source": [
    "# generalize the procedure to create any MxN matrix with rank r\n",
    "m = 50\n",
    "n = 47\n",
    "r = 5\n",
    "\n",
    "A = np.random.randn(m,r) @ np.random.randn(r,n)\n",
    "print(np.shape(A))\n",
    "print(np.linalg.matrix_rank(A))"
   ]
  },
  {
   "cell_type": "markdown",
   "metadata": {},
   "source": [
    "# Code challenge: scalar multiplication and rank"
   ]
  },
  {
   "cell_type": "code",
   "execution_count": 44,
   "metadata": {},
   "outputs": [
    {
     "name": "stdout",
     "output_type": "stream",
     "text": [
      "6\n",
      "3\n"
     ]
    }
   ],
   "source": [
    "# create two matrices: full-rank and a reduced-rank\n",
    "m = 12\n",
    "n = 6\n",
    "r = 3\n",
    "\n",
    "F = np.random.randn(m,n)\n",
    "R = np.random.randn(m,r) @ np.random.randn(r,n)\n",
    "\n",
    "print(np.linalg.matrix_rank(F))\n",
    "print(np.linalg.matrix_rank(R))"
   ]
  },
  {
   "cell_type": "code",
   "execution_count": 45,
   "metadata": {},
   "outputs": [
    {
     "name": "stdout",
     "output_type": "stream",
     "text": [
      "1.4303020756853164\n"
     ]
    }
   ],
   "source": [
    "# create some scaler\n",
    "l = np.random.rand()*5\n",
    "print(l)"
   ]
  },
  {
   "cell_type": "code",
   "execution_count": 46,
   "metadata": {},
   "outputs": [
    {
     "name": "stdout",
     "output_type": "stream",
     "text": [
      "6\n",
      "3\n",
      "6\n",
      "3\n"
     ]
    }
   ],
   "source": [
    "# print ranks of F, R, l*F, l*R\n",
    "print(np.linalg.matrix_rank(F))\n",
    "print(np.linalg.matrix_rank(R))\n",
    "\n",
    "# scaler does not change the ranks of the matrices \n",
    "print(np.linalg.matrix_rank(l*F))\n",
    "print(np.linalg.matrix_rank(l*R))"
   ]
  },
  {
   "cell_type": "code",
   "execution_count": null,
   "metadata": {},
   "outputs": [],
   "source": [
    "# check whether rank(l*F)==;*rank(F)\n",
    "## False because a rank must be an integer"
   ]
  },
  {
   "cell_type": "markdown",
   "metadata": {},
   "source": [
    "\n",
    "---\n",
    "# VIDEO: Rank of A^TA and AA^T\n",
    "---\n"
   ]
  },
  {
   "cell_type": "code",
   "execution_count": 2,
   "metadata": {},
   "outputs": [
    {
     "name": "stdout",
     "output_type": "stream",
     "text": [
      "AtA: 3x3, rank=3\n",
      "AAt: 14x14, rank=3\n"
     ]
    }
   ],
   "source": [
    "# matrix sizes\n",
    "m = 14\n",
    "n =  3\n",
    "\n",
    "# create matrices\n",
    "A = np.round( 10*np.random.randn(m,n) )\n",
    "\n",
    "AtA = A.T@A\n",
    "AAt = A@A.T\n",
    "\n",
    "# get matrix sizes\n",
    "sizeAtA = AtA.shape\n",
    "sizeAAt = AAt.shape\n",
    "\n",
    "# print info!\n",
    "print('AtA: %dx%d, rank=%d' %(sizeAtA[0],sizeAtA[1],np.linalg.matrix_rank(AtA)))\n",
    "print('AAt: %dx%d, rank=%d' %(sizeAAt[0],sizeAAt[1],np.linalg.matrix_rank(AAt)))"
   ]
  },
  {
   "cell_type": "markdown",
   "metadata": {},
   "source": [
    "# Code challenge: rank of multiplied and summed matrices"
   ]
  },
  {
   "cell_type": "code",
   "execution_count": 11,
   "metadata": {},
   "outputs": [],
   "source": [
    "# generate two matrices (A and B), 2x5\n",
    "A = np.random.randn(2,5)\n",
    "B = np.random.randn(2,5)"
   ]
  },
  {
   "cell_type": "code",
   "execution_count": 12,
   "metadata": {},
   "outputs": [
    {
     "name": "stdout",
     "output_type": "stream",
     "text": [
      "[[-0.59114432 -0.42717376 -0.61431399  0.39291897  0.00555613]\n",
      " [-0.06305334 -1.35018323 -0.70140993  0.4093386  -0.14867387]]\n",
      "\n",
      "[[-0.12136491 -1.08253859  1.14915414 -0.45701363  1.40288701]\n",
      " [ 1.84189355 -0.46200863  0.30026578 -0.00213444 -0.62531071]]\n"
     ]
    }
   ],
   "source": [
    "print(A), print()\n",
    "print(B)"
   ]
  },
  {
   "cell_type": "code",
   "execution_count": 13,
   "metadata": {},
   "outputs": [],
   "source": [
    "# compute AtA and BtB\n",
    "AtA = A.T@A\n",
    "BtB = B.T@B"
   ]
  },
  {
   "cell_type": "code",
   "execution_count": 14,
   "metadata": {},
   "outputs": [
    {
     "name": "stdout",
     "output_type": "stream",
     "text": [
      "[[ 0.35342734  0.33765491  0.40737447 -0.25808198  0.00608991]\n",
      " [ 0.33765491  2.00547219  1.20945075 -0.72052678  0.19836353]\n",
      " [ 0.40737447  1.20945075  0.86935757 -0.52848978  0.10086812]\n",
      " [-0.25808198 -0.72052678 -0.52848978  0.3219434  -0.05867484]\n",
      " [ 0.00608991  0.19836353  0.10086812 -0.05867484  0.02213479]]\n",
      "\n",
      "[[ 3.40730128 -0.71958851  0.41359062  0.051534   -1.32201702]\n",
      " [-0.71958851  1.38534177 -1.38272909  0.49572102 -1.22978039]\n",
      " [ 0.41359062 -1.38272909  1.41071479 -0.52582     1.42437402]\n",
      " [ 0.051534    0.49572102 -0.52582     0.20886601 -0.63980379]\n",
      " [-1.32201702 -1.22978039  1.42437402 -0.63980379  2.35910546]]\n"
     ]
    }
   ],
   "source": [
    "print(AtA),print()\n",
    "print(BtB)"
   ]
  },
  {
   "cell_type": "code",
   "execution_count": 15,
   "metadata": {},
   "outputs": [
    {
     "name": "stdout",
     "output_type": "stream",
     "text": [
      "2\n",
      "2\n"
     ]
    }
   ],
   "source": [
    "# find their ranks\n",
    "print(np.linalg.matrix_rank(AtA))\n",
    "print(np.linalg.matrix_rank(BtB))"
   ]
  },
  {
   "cell_type": "code",
   "execution_count": 21,
   "metadata": {},
   "outputs": [
    {
     "name": "stdout",
     "output_type": "stream",
     "text": [
      "2\n",
      "(5, 5)\n"
     ]
    }
   ],
   "source": [
    "# find ranks of AtA @ BtB\n",
    "mul_mat = AtA@BtB\n",
    "print(np.linalg.matrix_rank(mul_mat))\n",
    "print(mul_mat.shape)"
   ]
  },
  {
   "cell_type": "code",
   "execution_count": 17,
   "metadata": {},
   "outputs": [
    {
     "name": "stdout",
     "output_type": "stream",
     "text": [
      "4\n",
      "(5, 5)\n"
     ]
    }
   ],
   "source": [
    "# find ranks of AtA + BtB\n",
    "sum_mat = AtA+BtB\n",
    "print(np.linalg.matrix_rank(sum_mat))\n",
    "print(sum_mat.shape)"
   ]
  },
  {
   "cell_type": "markdown",
   "metadata": {},
   "source": [
    "\n",
    "---\n",
    "# VIDEO: Making a matrix full-rank by \"shifting\"\n",
    "---\n"
   ]
  },
  {
   "cell_type": "code",
   "execution_count": 29,
   "metadata": {},
   "outputs": [
    {
     "name": "stdout",
     "output_type": "stream",
     "text": [
      "rank(w/o shift) = 28\n",
      "rank(with shift) = 30\n"
     ]
    }
   ],
   "source": [
    "# size of matrix\n",
    "m = 30\n",
    "\n",
    "# create the square symmetric matrix\n",
    "A = np.random.randn(m,m)\n",
    "A = np.round( 10*A.T@A )\n",
    "# print(A),print()\n",
    "\n",
    "# reduce the rank\n",
    "A[:,0] = A[:,1]\n",
    "A[:,2] = A[:,1]\n",
    "\n",
    "# shift amount (l=lambda)\n",
    "l = .00000001\n",
    "\n",
    "# new matrix\n",
    "B = A + l*np.eye(m,m)\n",
    "\n",
    "# print information\n",
    "print('rank(w/o shift) = %d' %np.linalg.matrix_rank(A))\n",
    "print('rank(with shift) = %d' %np.linalg.matrix_rank(B))"
   ]
  },
  {
   "cell_type": "markdown",
   "metadata": {},
   "source": [
    "# Code challenge: is this vector in the span of this set?"
   ]
  },
  {
   "cell_type": "code",
   "execution_count": 37,
   "metadata": {},
   "outputs": [
    {
     "name": "stdout",
     "output_type": "stream",
     "text": [
      "[[1]\n",
      " [2]\n",
      " [3]\n",
      " [4]]\n",
      "\n",
      "[[4 0]\n",
      " [3 4]\n",
      " [6 0]\n",
      " [2 1]]\n",
      "\n",
      "[[1 0]\n",
      " [2 0]\n",
      " [2 1]\n",
      " [2 2]]\n",
      "\n",
      "[[4 0 1]\n",
      " [3 4 2]\n",
      " [6 0 3]\n",
      " [2 1 4]]\n",
      "\n",
      "[[1 0 1]\n",
      " [2 0 2]\n",
      " [2 1 3]\n",
      " [2 2 4]]\n",
      "\n",
      "\n",
      "3\n",
      "2\n"
     ]
    }
   ],
   "source": [
    "# determine whether this vestor\n",
    "v = np.array([[1,2,3,4]]).T\n",
    "print(v),print()\n",
    "\n",
    "# in the span of these sets?\n",
    "S = np.vstack(([4,3,6,2],[0,4,0,1])).T\n",
    "T = np.vstack(([1,2,2,2],[0,0,1,2])).T\n",
    "print(S),print()\n",
    "print(T),print()\n",
    "\n",
    "Sv = np.concatenate((S,v), axis=1)\n",
    "Tv = np.concatenate((T,v), axis=1)\n",
    "print(Sv),print()\n",
    "print(Tv),print()\n",
    "\n",
    "print()\n",
    "print(np.linalg.matrix_rank(Sv)) # The rank is increased so it is not in the span\n",
    "print(np.linalg.matrix_rank(Tv)) # The rank is not increased so it is in the same span"
   ]
  },
  {
   "cell_type": "code",
   "execution_count": null,
   "metadata": {},
   "outputs": [],
   "source": []
  }
 ],
 "metadata": {
  "kernelspec": {
   "display_name": "Python 3",
   "language": "python",
   "name": "python3"
  },
  "language_info": {
   "codemirror_mode": {
    "name": "ipython",
    "version": 3
   },
   "file_extension": ".py",
   "mimetype": "text/x-python",
   "name": "python",
   "nbconvert_exporter": "python",
   "pygments_lexer": "ipython3",
   "version": "3.8.5"
  }
 },
 "nbformat": 4,
 "nbformat_minor": 4
}
