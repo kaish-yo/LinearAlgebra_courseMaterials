{
 "cells": [
  {
   "cell_type": "markdown",
   "metadata": {},
   "source": [
    "#     COURSE: Linear algebra: theory and implementation\n",
    "##    SECTION: Matrix inverse\n",
    "\n",
    "#### Instructor: sincxpress.com\n",
    "##### Course url: https://www.udemy.com/course/linear-algebra-theory-and-implementation/?couponCode=202110"
   ]
  },
  {
   "cell_type": "code",
   "execution_count": 2,
   "metadata": {},
   "outputs": [],
   "source": [
    "import numpy as np\n",
    "from sympy import *\n",
    "import matplotlib.pyplot as plt"
   ]
  },
  {
   "cell_type": "markdown",
   "metadata": {},
   "source": [
    "\n",
    "---\n",
    "# VIDEO: Concept and uses of the inverse\n",
    "---\n"
   ]
  },
  {
   "cell_type": "code",
   "execution_count": 3,
   "metadata": {},
   "outputs": [
    {
     "name": "stdout",
     "output_type": "stream",
     "text": [
      "[[ 1.00000000e+00  3.45182856e-18 -9.22748113e-18]\n",
      " [ 5.10901763e-17  1.00000000e+00 -5.32588127e-17]\n",
      " [-2.10010760e-16  1.77443530e-17  1.00000000e+00]]\n"
     ]
    }
   ],
   "source": [
    "# size of square matrix\n",
    "m = 3\n",
    "\n",
    "# generate random matrix\n",
    "A = np.random.randn(m,m)\n",
    "\n",
    "# compute its inverse\n",
    "Ainv = np.linalg.inv(A)\n",
    "\n",
    "# and check the multiplication\n",
    "idm = A@Ainv\n",
    "\n",
    "# print the matrix. Note the computer rounding errors on the off-diagonals\n",
    "print(idm)"
   ]
  },
  {
   "cell_type": "code",
   "execution_count": 4,
   "metadata": {},
   "outputs": [
    {
     "data": {
      "image/png": "[encoded data removed]",
      "text/plain": [
       "<Figure size 432x288 with 3 Axes>"
      ]
     },
     "metadata": {
      "needs_background": "light"
     },
     "output_type": "display_data"
    }
   ],
   "source": [
    "# show in an image\n",
    "plt.subplot(131)\n",
    "plt.imshow(A)\n",
    "plt.title('Matrix A')\n",
    "\n",
    "plt.subplot(132)\n",
    "plt.imshow(Ainv)\n",
    "plt.title('Matrix $A^{-1}$')\n",
    "\n",
    "\n",
    "plt.subplot(133)\n",
    "plt.imshow(idm)\n",
    "plt.title('AA$^{-1}$')\n",
    "\n",
    "plt.show()"
   ]
  },
  {
   "cell_type": "markdown",
   "metadata": {},
   "source": [
    "# Code challenge: Implement the MCA algorithm!!"
   ]
  },
  {
   "cell_type": "code",
   "execution_count": 119,
   "metadata": {},
   "outputs": [
    {
     "name": "stdout",
     "output_type": "stream",
     "text": [
      "[[ 7  0 10  5  7]\n",
      " [ 1  3  8  5  7]\n",
      " [10  7  4  7  7]\n",
      " [ 0  4 10  1  1]\n",
      " [ 3  9  0 10  6]]\n"
     ]
    }
   ],
   "source": [
    "m = 5\n",
    "M = np.random.randint(0,11,(m,m))\n",
    "print(M)"
   ]
  },
  {
   "cell_type": "code",
   "execution_count": 120,
   "metadata": {},
   "outputs": [],
   "source": [
    "# Custom fucntion to apply MCA rule to calculate the matrix inverse\n",
    "def calc_inverse(M):\n",
    "    # Calculate Minor matrix\n",
    "    Minor = np.zeros(M.shape)\n",
    "    for i in range(Minor.shape[0]):\n",
    "        for j in range(Minor.shape[1]):\n",
    "            temp_M = np.delete(M, i, axis=0) # drop the row\n",
    "            temp_M = np.delete(temp_M, j, axis=1) # drop the column\n",
    "            Minor[i,j] = np.linalg.det(temp_M) # get the determinant of the Minor matrix\n",
    "    # Calculate Cofactor matrix\n",
    "    M_flat = Minor.reshape(M.shape[0] * M.shape[1]) # first flatten the matrix to a vector for simplicity\n",
    "    C = np.zeros(M_flat.shape) # generate a zeros matrix to store the each calculation result\n",
    "    for idx, element in enumerate(M_flat): # apply H matrix (+,-,+...)\n",
    "        if idx % 2 == 0:\n",
    "            C[idx] = element\n",
    "        else:\n",
    "            C[idx] = element * -1\n",
    "    C = C.reshape(Minor.shape) # revert the form from the vector to the original matrix\n",
    "    # Calculate the Adjugate\n",
    "    A = C.T * 1/np.linalg.det(M) # apply the adjegate formula\n",
    "    return A"
   ]
  },
  {
   "cell_type": "code",
   "execution_count": 121,
   "metadata": {},
   "outputs": [
    {
     "data": {
      "text/plain": [
       "array([ 7,  0, 10,  5,  7,  1,  3,  8,  5,  7, 10,  7,  4,  7,  7,  0,  4,\n",
       "       10,  1,  1,  3,  9,  0, 10,  6])"
      ]
     },
     "execution_count": 121,
     "metadata": {},
     "output_type": "execute_result"
    }
   ],
   "source": [
    "M.reshape(m*m)"
   ]
  },
  {
   "cell_type": "code",
   "execution_count": 122,
   "metadata": {},
   "outputs": [
    {
     "name": "stdout",
     "output_type": "stream",
     "text": [
      "[[ 0.05210372 -0.11081213  0.08341487  0.00318004 -0.02935421]\n",
      " [-0.18468689  0.08292564  0.13625245  0.0638454  -0.05088063]\n",
      " [ 0.06665851 -0.04317515 -0.04586595  0.08622798  0.01174168]\n",
      " [ 0.26822407 -0.25354697 -0.23960372  0.03045499  0.25733855]\n",
      " [-0.19606164  0.35359589  0.15325342 -0.14811644 -0.17123288]]\n"
     ]
    }
   ],
   "source": [
    "print(calc_inverse(M))"
   ]
  },
  {
   "cell_type": "code",
   "execution_count": 123,
   "metadata": {},
   "outputs": [
    {
     "name": "stdout",
     "output_type": "stream",
     "text": [
      "[[ 0.05210372 -0.11081213  0.08341487  0.00318004 -0.02935421]\n",
      " [-0.18468689  0.08292564  0.13625245  0.0638454  -0.05088063]\n",
      " [ 0.06665851 -0.04317515 -0.04586595  0.08622798  0.01174168]\n",
      " [ 0.26822407 -0.25354697 -0.23960372  0.03045499  0.25733855]\n",
      " [-0.19606164  0.35359589  0.15325342 -0.14811644 -0.17123288]]\n"
     ]
    }
   ],
   "source": [
    "M_inv = np.linalg.inv(M)\n",
    "print(M_inv)"
   ]
  },
  {
   "cell_type": "markdown",
   "metadata": {},
   "source": [
    "\n",
    "---\n",
    "# VIDEO: Computing the inverse via row reduction\n",
    "---\n"
   ]
  },
  {
   "cell_type": "code",
   "execution_count": 131,
   "metadata": {},
   "outputs": [
    {
     "name": "stdout",
     "output_type": "stream",
     "text": [
      "Size of Aaug: (4, 8)\n"
     ]
    }
   ],
   "source": [
    "\n",
    "# matrix size\n",
    "m = 4\n",
    "\n",
    "# random integers matrix\n",
    "A = Matrix( np.round(10*np.random.randn(m,m)),dtype='float' )\n",
    "\n",
    "# augment A and identity\n",
    "Aaug = Matrix( np.concatenate((A,np.eye(m,m)),axis=1) )\n",
    "print('Size of Aaug:',Aaug.shape)\n",
    "# print(np.array(Aaug))\n",
    "\n",
    "# rref\n",
    "Asol = Aaug.rref()\n",
    "# print(Asol)\n",
    "Asol = Asol[0]\n",
    "Ainvrref = Asol[:,m:m*2]\n",
    "Ainv = A.inv()"
   ]
  },
  {
   "cell_type": "code",
   "execution_count": 125,
   "metadata": {},
   "outputs": [
    {
     "data": {
      "image/png": "[encoded data removed]",
      "text/plain": [
       "<Figure size 432x288 with 2 Axes>"
      ]
     },
     "metadata": {
      "needs_background": "light"
     },
     "output_type": "display_data"
    }
   ],
   "source": [
    "# show the augemented matrices\n",
    "plt.subplot(211)\n",
    "plt.imshow(matrix2numpy(Aaug,dtype='float'),vmin=-5,vmax=5)\n",
    "plt.title('A|I'), plt.axis('off')\n",
    "\n",
    "plt.subplot(212)\n",
    "plt.imshow(matrix2numpy(Asol,dtype='float'))\n",
    "plt.title('I|A$^{-1}$'), plt.axis('off')\n",
    "\n",
    "plt.show()"
   ]
  },
  {
   "cell_type": "code",
   "execution_count": 126,
   "metadata": {},
   "outputs": [
    {
     "data": {
      "image/png": "[encoded data removed]",
      "text/plain": [
       "<Figure size 432x288 with 3 Axes>"
      ]
     },
     "metadata": {
      "needs_background": "light"
     },
     "output_type": "display_data"
    }
   ],
   "source": [
    "# show the square matrices\n",
    "plt.subplot(131)\n",
    "plt.imshow(matrix2numpy(A,dtype='float'))\n",
    "plt.title('Matrix A'), plt.axis('off')\n",
    "\n",
    "plt.subplot(132)\n",
    "plt.imshow(matrix2numpy(Ainvrref,dtype='float'))\n",
    "plt.title('A$^{-1}$ from rref'), plt.axis('off')\n",
    "\n",
    "plt.subplot(133)\n",
    "plt.imshow(matrix2numpy(Ainv,dtype='float'))\n",
    "plt.title('A$^{-1}$ from inv()'), plt.axis('off')\n",
    "\n",
    "plt.show()"
   ]
  },
  {
   "cell_type": "markdown",
   "metadata": {},
   "source": [
    "\n",
    "---\n",
    "# VIDEO: Left inverse and right inverse\n",
    "---\n"
   ]
  },
  {
   "cell_type": "code",
   "execution_count": null,
   "metadata": {},
   "outputs": [],
   "source": [
    "# m>n for left inverse,\n",
    "# m<n for right inverse\n",
    "m = 6\n",
    "n = 3\n",
    "\n",
    "# create matrices\n",
    "A = np.random.randn(m,n)\n",
    "AtA = A.T@A\n",
    "AAt = A@A.T\n",
    "\n",
    "# inspect ranks\n",
    "print('Shape of A^TA:', np.shape(AtA) )\n",
    "print('Rank of A^TA:', np.linalg.matrix_rank(AtA) )\n",
    "print('Shape of AA^T:', np.shape(AAt) )\n",
    "print('Rank of AA^T:', np.linalg.matrix_rank(AAt) ) \n",
    "\n",
    "# left inverse\n",
    "Aleft = np.linalg.inv(AtA)@A.T\n",
    "\n",
    "# right inverse\n",
    "Aright = A.T@np.linalg.inv(AAt)\n",
    "\n",
    "# now test!\n",
    "I_left  = Aleft  @ A\n",
    "I_right = A @ Aright\n",
    "\n",
    "print(I_left), print(' ')\n",
    "print(I_right), print(' ')\n",
    "\n",
    "\n",
    "# and then test using the inverse function\n",
    "AtA_inv = np.linalg.inv(AtA)\n",
    "I_AtA   = AtA_inv @ AtA\n",
    "\n",
    "AAt_inv = np.linalg.inv(AAt)\n",
    "I_AAt   = AAt_inv @ AAt\n",
    "\n",
    "print(I_AtA), print(' ')\n",
    "print(I_AAt)"
   ]
  },
  {
   "cell_type": "code",
   "execution_count": null,
   "metadata": {},
   "outputs": [],
   "source": [
    "## show images\n",
    "plt.subplot(331)\n",
    "plt.imshow(A), plt.axis('off')\n",
    "plt.title('A')\n",
    "\n",
    "plt.subplot(332)\n",
    "plt.imshow(AtA), plt.axis('off')\n",
    "plt.title('A$^T$A')\n",
    "\n",
    "plt.subplot(333)\n",
    "plt.imshow(AAt), plt.axis('off')\n",
    "plt.title('AA$^T$')\n",
    "\n",
    "plt.subplot(335)\n",
    "plt.imshow(Aleft), plt.axis('off')\n",
    "plt.title('$(A^TA)^{-1}A^T$')\n",
    "\n",
    "plt.subplot(336)\n",
    "plt.imshow(Aright), plt.axis('off')\n",
    "plt.title('$A^T(AA^T)^{-1}$')\n",
    "\n",
    "plt.subplot(338)\n",
    "plt.imshow(I_left), plt.axis('off')\n",
    "plt.title('[ $(A^TA)^{-1}A^T ]$  A')\n",
    "\n",
    "plt.subplot(339)\n",
    "plt.imshow(I_right), plt.axis('off')\n",
    "plt.title('A  [ $A^T(AA^T)^{-1}$ ]')\n",
    "\n",
    "plt.show()"
   ]
  },
  {
   "cell_type": "markdown",
   "metadata": {},
   "source": [
    "# Code challenge: inverse of a diagonal matrix"
   ]
  },
  {
   "cell_type": "code",
   "execution_count": 139,
   "metadata": {},
   "outputs": [
    {
     "name": "stdout",
     "output_type": "stream",
     "text": [
      "[[ 0.22709631  0.          0.          0.          0.        ]\n",
      " [ 0.          1.54736908  0.          0.          0.        ]\n",
      " [ 0.          0.         -1.19843527  0.          0.        ]\n",
      " [ 0.          0.          0.         -0.3471791   0.        ]\n",
      " [ 0.          0.          0.          0.          0.25395812]]\n"
     ]
    }
   ],
   "source": [
    "# create a random diagonal matrix\n",
    "m = 5ddd\n",
    "D = np.random.randn(m,m)\n",
    "D_shape = D.shape\n",
    "for i in range(D_shape[0]):\n",
    "    for j in range(D_shape[1]):\n",
    "        if i!=j:\n",
    "             D[i,j] = 0\n",
    "print(D)"
   ]
  },
  {
   "cell_type": "code",
   "execution_count": 140,
   "metadata": {},
   "outputs": [
    {
     "name": "stdout",
     "output_type": "stream",
     "text": [
      "[[ 4.40341811  0.          0.          0.          0.        ]\n",
      " [ 0.          0.64625823  0.          0.          0.        ]\n",
      " [-0.         -0.         -0.83442137 -0.         -0.        ]\n",
      " [ 0.          0.          0.         -2.88035775  0.        ]\n",
      " [ 0.          0.          0.          0.          3.93765714]]\n",
      "---\n",
      "[[1. 0. 0. 0. 0.]\n",
      " [0. 1. 0. 0. 0.]\n",
      " [0. 0. 1. 0. 0.]\n",
      " [0. 0. 0. 1. 0.]\n",
      " [0. 0. 0. 0. 1.]]\n"
     ]
    }
   ],
   "source": [
    "# Calculate the matrix inverse\n",
    "print(np.linalg.inv(D))\n",
    "print('---')\n",
    "print(D@np.linalg.inv(D))"
   ]
  },
  {
   "cell_type": "markdown",
   "metadata": {},
   "source": [
    "Seems the matrix inverse of a diagonal metrix is the reciprocal to its original!!"
   ]
  },
  {
   "cell_type": "markdown",
   "metadata": {},
   "source": [
    "---\n",
    "# Video: Left inverse and right inverse\n",
    "---"
   ]
  },
  {
   "cell_type": "code",
   "execution_count": 161,
   "metadata": {},
   "outputs": [
    {
     "name": "stdout",
     "output_type": "stream",
     "text": [
      "Shape of A^TA: (2, 2)\n",
      "Shape of AA^T: (3, 3)\n",
      "\n",
      "Rank of A^TA: 2\n",
      "Rank of AA^T: 2\n",
      "\n",
      "[[ 1.00000000e+00 -1.38777878e-17]\n",
      " [-8.32667268e-17  1.00000000e+00]]\n",
      "\n",
      "[[ 4.19021994 -0.05955582  2.03637386]\n",
      " [ 0.21360724  1.03378949  3.93208817]\n",
      " [ 2.74819349 -0.0894405   1.14955463]]\n"
     ]
    }
   ],
   "source": [
    "# m>n for left inverse\n",
    "m = 3\n",
    "n = 2\n",
    "\n",
    "# create matrices\n",
    "A = np.random.randn(m,n)\n",
    "AtA = A.T@A\n",
    "AAt = A@A.T\n",
    "\n",
    "# inspect ranks\n",
    "print('Shape of A^TA:', np.shape(AtA))\n",
    "print('Shape of AA^T:', np.shape(AAt))\n",
    "print()\n",
    "print('Rank of A^TA:', np.linalg.matrix_rank(AtA))\n",
    "print('Rank of AA^T:', np.linalg.matrix_rank(AAt))\n",
    "print()\n",
    "# left inverse\n",
    "Aleft = np.linalg.inv(AtA)@A.T\n",
    "Aright = A.T@np.linalg.inv(AAt)\n",
    "\n",
    "I_left = Aleft@A\n",
    "I_right = A@Aright\n",
    "\n",
    "print(I_left),print()\n",
    "print(I_right)"
   ]
  },
  {
   "cell_type": "code",
   "execution_count": 162,
   "metadata": {},
   "outputs": [
    {
     "name": "stdout",
     "output_type": "stream",
     "text": [
      "Shape of A^TA: (3, 3)\n",
      "Shape of AA^T: (2, 2)\n",
      "\n",
      "Rank of A^TA: 2\n",
      "Rank of AA^T: 2\n",
      "\n",
      "[[  9.48534596 -18.80548226  -7.70487188]\n",
      " [ -8.33364658 -10.98289707  -3.86053852]\n",
      " [ 21.93783174  -5.26536618  -3.04584684]]\n",
      "\n",
      "[[1.00000000e+00 1.11022302e-16]\n",
      " [6.93889390e-18 1.00000000e+00]]\n"
     ]
    }
   ],
   "source": [
    "# m<n for right inverse\n",
    "m = 2\n",
    "n = 3\n",
    "\n",
    "# create matrices\n",
    "A = np.random.randn(m,n)\n",
    "AtA = A.T@A\n",
    "AAt = A@A.T\n",
    "\n",
    "# inspect ranks\n",
    "print('Shape of A^TA:', np.shape(AtA))\n",
    "print('Shape of AA^T:', np.shape(AAt))\n",
    "print()\n",
    "print('Rank of A^TA:', np.linalg.matrix_rank(AtA))\n",
    "print('Rank of AA^T:', np.linalg.matrix_rank(AAt))\n",
    "print()\n",
    "# left inverse\n",
    "Aleft = np.linalg.inv(AtA)@A.T\n",
    "Aright = A.T@np.linalg.inv(AAt)\n",
    "\n",
    "I_left = Aleft@A\n",
    "I_right = A@Aright\n",
    "\n",
    "print(I_left),print()\n",
    "print(I_right)"
   ]
  },
  {
   "cell_type": "markdown",
   "metadata": {},
   "source": [
    "\n",
    "---\n",
    "# VIDEO: The pseudoinverse, part 1\n",
    "---\n"
   ]
  },
  {
   "cell_type": "code",
   "execution_count": 141,
   "metadata": {},
   "outputs": [
    {
     "ename": "TypeError",
     "evalue": "No loop matching the specified signature and casting was found for ufunc svd_n_s",
     "output_type": "error",
     "traceback": [
      "\u001b[1;31m---------------------------------------------------------------------------\u001b[0m",
      "\u001b[1;31mTypeError\u001b[0m                                 Traceback (most recent call last)",
      "\u001b[1;32m<ipython-input-141-1fd5e8ab47fb>\u001b[0m in \u001b[0;36m<module>\u001b[1;34m\u001b[0m\n\u001b[0;32m      1\u001b[0m \u001b[1;31m# pseudoinverse of rectangular matrix A\u001b[0m\u001b[1;33m\u001b[0m\u001b[1;33m\u001b[0m\u001b[1;33m\u001b[0m\u001b[0m\n\u001b[0;32m      2\u001b[0m \u001b[1;33m\u001b[0m\u001b[0m\n\u001b[1;32m----> 3\u001b[1;33m \u001b[0mpseudoInvA\u001b[0m \u001b[1;33m=\u001b[0m \u001b[0mnp\u001b[0m\u001b[1;33m.\u001b[0m\u001b[0mlinalg\u001b[0m\u001b[1;33m.\u001b[0m\u001b[0mpinv\u001b[0m\u001b[1;33m(\u001b[0m\u001b[0mA\u001b[0m\u001b[1;33m)\u001b[0m\u001b[1;33m\u001b[0m\u001b[1;33m\u001b[0m\u001b[0m\n\u001b[0m\u001b[0;32m      4\u001b[0m \u001b[1;33m\u001b[0m\u001b[0m\n\u001b[0;32m      5\u001b[0m \u001b[0mplt\u001b[0m\u001b[1;33m.\u001b[0m\u001b[0msubplot\u001b[0m\u001b[1;33m(\u001b[0m\u001b[1;36m131\u001b[0m\u001b[1;33m)\u001b[0m\u001b[1;33m\u001b[0m\u001b[1;33m\u001b[0m\u001b[0m\n",
      "\u001b[1;32m<__array_function__ internals>\u001b[0m in \u001b[0;36mpinv\u001b[1;34m(*args, **kwargs)\u001b[0m\n",
      "\u001b[1;32m~\\anaconda3\\lib\\site-packages\\numpy\\linalg\\linalg.py\u001b[0m in \u001b[0;36mpinv\u001b[1;34m(a, rcond, hermitian)\u001b[0m\n\u001b[0;32m   2001\u001b[0m         \u001b[1;32mreturn\u001b[0m \u001b[0mwrap\u001b[0m\u001b[1;33m(\u001b[0m\u001b[0mres\u001b[0m\u001b[1;33m)\u001b[0m\u001b[1;33m\u001b[0m\u001b[1;33m\u001b[0m\u001b[0m\n\u001b[0;32m   2002\u001b[0m     \u001b[0ma\u001b[0m \u001b[1;33m=\u001b[0m \u001b[0ma\u001b[0m\u001b[1;33m.\u001b[0m\u001b[0mconjugate\u001b[0m\u001b[1;33m(\u001b[0m\u001b[1;33m)\u001b[0m\u001b[1;33m\u001b[0m\u001b[1;33m\u001b[0m\u001b[0m\n\u001b[1;32m-> 2003\u001b[1;33m     \u001b[0mu\u001b[0m\u001b[1;33m,\u001b[0m \u001b[0ms\u001b[0m\u001b[1;33m,\u001b[0m \u001b[0mvt\u001b[0m \u001b[1;33m=\u001b[0m \u001b[0msvd\u001b[0m\u001b[1;33m(\u001b[0m\u001b[0ma\u001b[0m\u001b[1;33m,\u001b[0m \u001b[0mfull_matrices\u001b[0m\u001b[1;33m=\u001b[0m\u001b[1;32mFalse\u001b[0m\u001b[1;33m,\u001b[0m \u001b[0mhermitian\u001b[0m\u001b[1;33m=\u001b[0m\u001b[0mhermitian\u001b[0m\u001b[1;33m)\u001b[0m\u001b[1;33m\u001b[0m\u001b[1;33m\u001b[0m\u001b[0m\n\u001b[0m\u001b[0;32m   2004\u001b[0m \u001b[1;33m\u001b[0m\u001b[0m\n\u001b[0;32m   2005\u001b[0m     \u001b[1;31m# discard small singular values\u001b[0m\u001b[1;33m\u001b[0m\u001b[1;33m\u001b[0m\u001b[1;33m\u001b[0m\u001b[0m\n",
      "\u001b[1;32m<__array_function__ internals>\u001b[0m in \u001b[0;36msvd\u001b[1;34m(*args, **kwargs)\u001b[0m\n",
      "\u001b[1;32m~\\anaconda3\\lib\\site-packages\\numpy\\linalg\\linalg.py\u001b[0m in \u001b[0;36msvd\u001b[1;34m(a, full_matrices, compute_uv, hermitian)\u001b[0m\n\u001b[0;32m   1659\u001b[0m \u001b[1;33m\u001b[0m\u001b[0m\n\u001b[0;32m   1660\u001b[0m         \u001b[0msignature\u001b[0m \u001b[1;33m=\u001b[0m \u001b[1;34m'D->DdD'\u001b[0m \u001b[1;32mif\u001b[0m \u001b[0misComplexType\u001b[0m\u001b[1;33m(\u001b[0m\u001b[0mt\u001b[0m\u001b[1;33m)\u001b[0m \u001b[1;32melse\u001b[0m \u001b[1;34m'd->ddd'\u001b[0m\u001b[1;33m\u001b[0m\u001b[1;33m\u001b[0m\u001b[0m\n\u001b[1;32m-> 1661\u001b[1;33m         \u001b[0mu\u001b[0m\u001b[1;33m,\u001b[0m \u001b[0ms\u001b[0m\u001b[1;33m,\u001b[0m \u001b[0mvh\u001b[0m \u001b[1;33m=\u001b[0m \u001b[0mgufunc\u001b[0m\u001b[1;33m(\u001b[0m\u001b[0ma\u001b[0m\u001b[1;33m,\u001b[0m \u001b[0msignature\u001b[0m\u001b[1;33m=\u001b[0m\u001b[0msignature\u001b[0m\u001b[1;33m,\u001b[0m \u001b[0mextobj\u001b[0m\u001b[1;33m=\u001b[0m\u001b[0mextobj\u001b[0m\u001b[1;33m)\u001b[0m\u001b[1;33m\u001b[0m\u001b[1;33m\u001b[0m\u001b[0m\n\u001b[0m\u001b[0;32m   1662\u001b[0m         \u001b[0mu\u001b[0m \u001b[1;33m=\u001b[0m \u001b[0mu\u001b[0m\u001b[1;33m.\u001b[0m\u001b[0mastype\u001b[0m\u001b[1;33m(\u001b[0m\u001b[0mresult_t\u001b[0m\u001b[1;33m,\u001b[0m \u001b[0mcopy\u001b[0m\u001b[1;33m=\u001b[0m\u001b[1;32mFalse\u001b[0m\u001b[1;33m)\u001b[0m\u001b[1;33m\u001b[0m\u001b[1;33m\u001b[0m\u001b[0m\n\u001b[0;32m   1663\u001b[0m         \u001b[0ms\u001b[0m \u001b[1;33m=\u001b[0m \u001b[0ms\u001b[0m\u001b[1;33m.\u001b[0m\u001b[0mastype\u001b[0m\u001b[1;33m(\u001b[0m\u001b[0m_realType\u001b[0m\u001b[1;33m(\u001b[0m\u001b[0mresult_t\u001b[0m\u001b[1;33m)\u001b[0m\u001b[1;33m,\u001b[0m \u001b[0mcopy\u001b[0m\u001b[1;33m=\u001b[0m\u001b[1;32mFalse\u001b[0m\u001b[1;33m)\u001b[0m\u001b[1;33m\u001b[0m\u001b[1;33m\u001b[0m\u001b[0m\n",
      "\u001b[1;31mTypeError\u001b[0m: No loop matching the specified signature and casting was found for ufunc svd_n_s"
     ]
    }
   ],
   "source": [
    "# pseudoinverse of rectangular matrix A\n",
    "\n",
    "pseudoInvA = np.linalg.pinv(A)\n",
    "\n",
    "plt.subplot(131)\n",
    "plt.imshow(A), plt.axis('off')\n",
    "plt.title('A')\n",
    "\n",
    "plt.subplot(132)\n",
    "plt.imshow(pseudoInvA), plt.axis('off')\n",
    "plt.title('Pseudoinverse of A')\n",
    "\n",
    "plt.subplot(133)\n",
    "plt.imshow(pseudoInvA@A), plt.axis('off')\n",
    "plt.title('A$^*$A')\n",
    "\n",
    "plt.show()"
   ]
  },
  {
   "cell_type": "code",
   "execution_count": 142,
   "metadata": {},
   "outputs": [
    {
     "name": "stdout",
     "output_type": "stream",
     "text": [
      "rank = 49\n"
     ]
    }
   ],
   "source": [
    "# create random matrix\n",
    "n = 50\n",
    "A = np.random.randn(n,n)\n",
    "\n",
    "# make rank deficient by repeating a column\n",
    "A[:,n-1] = A[:,n-2]\n",
    "\n",
    "# rank of A!\n",
    "print('rank =',np.linalg.matrix_rank(A))"
   ]
  },
  {
   "cell_type": "code",
   "execution_count": 143,
   "metadata": {},
   "outputs": [
    {
     "data": {
      "image/png": "[encoded data removed]",
      "text/plain": [
       "<Figure size 432x288 with 4 Axes>"
      ]
     },
     "metadata": {
      "needs_background": "light"
     },
     "output_type": "display_data"
    }
   ],
   "source": [
    "# compute the pseudoinverse\n",
    "Ai = np.linalg.pinv(A)\n",
    "\n",
    "\n",
    "# and show the matrices\n",
    "plt.subplot(221)\n",
    "plt.imshow(A), plt.axis('off')\n",
    "plt.title('A')\n",
    "\n",
    "plt.subplot(222)\n",
    "plt.imshow(Ai), plt.axis('off')\n",
    "plt.title('A$^*$')\n",
    "\n",
    "plt.subplot(223)\n",
    "plt.imshow(Ai@A), plt.axis('off')\n",
    "plt.title('A$^*$A')\n",
    "\n",
    "plt.subplot(224)\n",
    "plt.imshow(A@Ai), plt.axis('off')\n",
    "plt.title('AA$^*$')\n",
    "\n",
    "plt.show()"
   ]
  },
  {
   "cell_type": "code",
   "execution_count": null,
   "metadata": {},
   "outputs": [],
   "source": []
  }
 ],
 "metadata": {
  "kernelspec": {
   "display_name": "Python 3",
   "language": "python",
   "name": "python3"
  },
  "language_info": {
   "codemirror_mode": {
    "name": "ipython",
    "version": 3
   },
   "file_extension": ".py",
   "mimetype": "text/x-python",
   "name": "python",
   "nbconvert_exporter": "python",
   "pygments_lexer": "ipython3",
   "version": "3.8.5"
  }
 },
 "nbformat": 4,
 "nbformat_minor": 4
}
