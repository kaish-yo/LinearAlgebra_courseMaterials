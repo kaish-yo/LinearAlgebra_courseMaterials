{
 "cells": [
  {
   "cell_type": "markdown",
   "metadata": {},
   "source": [
    "#     COURSE: Linear algebra: theory and implementation\n",
    "##    SECTION: Introduction to matrices\n",
    "\n",
    "#### Instructor: sincxpress.com\n",
    "##### Course url: https://www.udemy.com/course/linear-algebra-theory-and-implementation/?couponCode=202110"
   ]
  },
  {
   "cell_type": "code",
   "execution_count": 1,
   "metadata": {},
   "outputs": [],
   "source": [
    "import numpy as np"
   ]
  },
  {
   "cell_type": "markdown",
   "metadata": {},
   "source": [
    "\n",
    "---\n",
    "# VIDEO: A zoo of matrices\n",
    "---\n"
   ]
  },
  {
   "cell_type": "code",
   "execution_count": 15,
   "metadata": {},
   "outputs": [
    {
     "name": "stdout",
     "output_type": "stream",
     "text": [
      "[[ 1.29187381 -0.48605323 -2.13927316 -0.63794323 -0.57348735]\n",
      " [ 0.75532571  0.08982024 -0.9094181   2.24515545 -0.86959683]\n",
      " [-0.52858293 -0.23829016  1.09173491 -1.48156009  0.12644546]\n",
      " [-1.75707432 -1.05799771 -1.04774202  0.74946366  0.11132077]\n",
      " [-0.39016136 -0.36697965 -0.68718852 -1.16202433 -0.86481589]]\n",
      " \n",
      "[[ 0.47881819  0.81990448]\n",
      " [ 1.94292021 -1.32637751]\n",
      " [ 0.39767266  0.84392358]\n",
      " [-0.98283734  0.81050622]\n",
      " [ 0.46227492 -1.32793876]]\n",
      " \n",
      "[[1. 0. 0.]\n",
      " [0. 1. 0.]\n",
      " [0. 0. 1.]]\n",
      " \n",
      "[[0. 0. 0. 0.]\n",
      " [0. 0. 0. 0.]\n",
      " [0. 0. 0. 0.]\n",
      " [0. 0. 0. 0.]]\n",
      " \n",
      "[[1 0 0 0 0]\n",
      " [0 2 0 0 0]\n",
      " [0 0 3 0 0]\n",
      " [0 0 0 5 0]\n",
      " [0 0 0 0 2]]\n",
      " \n",
      "[[-0.29380802 -0.20521742 -0.46204801  1.55315628 -0.158209  ]\n",
      " [-0.99788004 -0.31737583 -1.84478977 -0.70985271 -1.57117603]\n",
      " [ 0.03617935 -0.3112867   0.55222083 -0.31719201  0.50775646]\n",
      " [-0.04326967  0.46966674 -2.52235986  1.09800328  2.00621463]\n",
      " [ 0.87711552  0.14387674  0.98198073  0.10962982 -1.15920175]]\n",
      " \n",
      "[[-0.29380802 -0.20521742 -0.46204801  1.55315628 -0.158209  ]\n",
      " [ 0.         -0.31737583 -1.84478977 -0.70985271 -1.57117603]\n",
      " [ 0.          0.          0.55222083 -0.31719201  0.50775646]\n",
      " [ 0.          0.          0.          1.09800328  2.00621463]\n",
      " [ 0.          0.          0.          0.         -1.15920175]]\n",
      " \n",
      "[[-0.29380802  0.          0.          0.          0.        ]\n",
      " [-0.99788004 -0.31737583  0.          0.          0.        ]\n",
      " [ 0.03617935 -0.3112867   0.55222083  0.          0.        ]\n",
      " [-0.04326967  0.46966674 -2.52235986  1.09800328  0.        ]\n",
      " [ 0.87711552  0.14387674  0.98198073  0.10962982 -1.15920175]]\n",
      " \n",
      "[[ 0.20778726  1.28584396  0.5297291   0.53223157 -0.80487237 -0.25548041]\n",
      " [ 0.1597215   0.32188888  0.84971922 -1.14055717  0.81849981  0.0269584 ]\n",
      " [ 1.05657012  0.2683664  -0.0264101  -1.30562315  1.7256867  -1.0802063 ]]\n"
     ]
    }
   ],
   "source": [
    "\n",
    "# square vs. rectangular\n",
    "S = np.random.randn(5,5)\n",
    "R = np.random.randn(5,2) # 5 rows, 2 columns\n",
    "print(S), print(' ')\n",
    "print(R), print(' ')\n",
    "# identity\n",
    "I = np.eye(3)\n",
    "print(I), print(' ')\n",
    "\n",
    "# zeros\n",
    "Z = np.zeros((4,4))\n",
    "print(Z), print(' ')\n",
    "\n",
    "# diagonal\n",
    "D = np.diag([ 1, 2, 3, 5, 2 ])\n",
    "print(D), print(' ')\n",
    "\n",
    "# create triangular matrix from full matrices\n",
    "S = np.random.randn(5,5)\n",
    "U = np.triu(S)\n",
    "L = np.tril(S)\n",
    "print(S), print(' ')\n",
    "print(U), print(' ')\n",
    "print(L), print(' ')\n",
    "\n",
    "# concatenate matrices (sizes must match!)\n",
    "A = np.random.randn(3,2)\n",
    "# B = np.random.randn(4,4)\n",
    "B = np.random.randn(3,4)\n",
    "C = np.concatenate((A,B),axis=1)\n",
    "print(C)"
   ]
  },
  {
   "cell_type": "markdown",
   "metadata": {},
   "source": [
    "\n",
    "---\n",
    "# VIDEO: Matrix addition and subtraction\n",
    "---\n"
   ]
  },
  {
   "cell_type": "code",
   "execution_count": 25,
   "metadata": {},
   "outputs": [
    {
     "name": "stdout",
     "output_type": "stream",
     "text": [
      "[[ 1.08133641  1.14559585 -0.70970678  0.15886498]\n",
      " [-0.72212434  1.39628262 -1.80527882  2.1916585 ]\n",
      " [ 0.08514724 -0.0791873  -1.56733418  0.60221185]\n",
      " [-0.20353912  1.91006286  2.25708928 -1.80117208]\n",
      " [-0.25780065 -1.14862293  0.52619356  2.88456607]]\n",
      "---\n",
      "[[ 0.65059003 -0.28878096  0.08248313 -0.77084401 -0.70603257]\n",
      " [ 1.06837799  0.83562324  0.94301243  0.05206928  1.39587485]\n",
      " [-0.7238344  -1.5021863   1.40580049 -0.83676868  1.11843997]\n",
      " [-0.93496709 -0.64040846 -0.12931785 -0.04611921 -0.9364455 ]\n",
      " [-0.67146449  0.26575238 -1.2467203   1.40160115 -0.18803165]]\n",
      " \n",
      "[[0.03 0.   0.   0.   0.  ]\n",
      " [0.   0.03 0.   0.   0.  ]\n",
      " [0.   0.   0.03 0.   0.  ]\n",
      " [0.   0.   0.   0.03 0.  ]\n",
      " [0.   0.   0.   0.   0.03]]\n",
      " \n",
      "[[ 0.68059003 -0.28878096  0.08248313 -0.77084401 -0.70603257]\n",
      " [ 1.06837799  0.86562324  0.94301243  0.05206928  1.39587485]\n",
      " [-0.7238344  -1.5021863   1.43580049 -0.83676868  1.11843997]\n",
      " [-0.93496709 -0.64040846 -0.12931785 -0.01611921 -0.9364455 ]\n",
      " [-0.67146449  0.26575238 -1.2467203   1.40160115 -0.15803165]]\n"
     ]
    }
   ],
   "source": [
    "# create random matrices\n",
    "A = np.random.randn(5,4)\n",
    "B = np.random.randn(5,3)\n",
    "C = np.random.randn(5,4)\n",
    "\n",
    "# try to add them\n",
    "# print(A+B) # does not work\n",
    "print(A+C), print('---')\n",
    "# \"shifting\" a matrix\n",
    "l = .03 # lambda\n",
    "N = 5  # size of square matrix\n",
    "D = np.random.randn(N,N) # can only shift a square matrix\n",
    "print(D), print(' ')\n",
    "Ds = D + l*np.eye(N)\n",
    "print(l*np.eye(N)),print(' ')\n",
    "print(Ds)"
   ]
  },
  {
   "cell_type": "markdown",
   "metadata": {},
   "source": [
    "\n",
    "---\n",
    "# VIDEO: Matrix-scalar multiplication\n",
    "---\n"
   ]
  },
  {
   "cell_type": "code",
   "execution_count": 28,
   "metadata": {},
   "outputs": [
    {
     "name": "stdout",
     "output_type": "stream",
     "text": [
      "[[ 2  4]\n",
      " [ 4 10]]\n",
      " \n",
      "[[ 2  4]\n",
      " [ 4 10]]\n"
     ]
    }
   ],
   "source": [
    "# define matrix and scalar\n",
    "M = np.array([ [1, 2], [2, 5] ])\n",
    "s = 2\n",
    "\n",
    "# pre- and post-multiplication is the same:\n",
    "print( M*s )\n",
    "print(' ')\n",
    "print( s*M )\n"
   ]
  },
  {
   "cell_type": "markdown",
   "metadata": {},
   "source": [
    "## Code Challenge: is matrix-scalar multiplication a linear operation?"
   ]
  },
  {
   "cell_type": "code",
   "execution_count": 53,
   "metadata": {},
   "outputs": [
    {
     "name": "stdout",
     "output_type": "stream",
     "text": [
      "s=0.5520134173273844\n",
      "s(A+B)=\n",
      "[[-0.16016313  0.35795655 -0.62274251  0.41713508]\n",
      " [-0.26205211  0.67012115 -0.04787476  0.20330149]\n",
      " [ 0.89033906 -0.17799481  1.31180003  0.8194163 ]]\n",
      "sA+sB=\n",
      "[[-0.16016313  0.35795655 -0.62274251  0.41713508]\n",
      " [-0.26205211  0.67012115 -0.04787476  0.20330149]\n",
      " [ 0.89033906 -0.17799481  1.31180003  0.8194163 ]]\n"
     ]
    }
   ],
   "source": [
    "# Demonstrate distributive rules\n",
    "s = np.random.rand()\n",
    "A = np.random.randn(3,4)\n",
    "B = np.random.randn(3,4)\n",
    "resL = s*(A+B)\n",
    "resR = s*A+s*B\n",
    "diff = resL - resR \n",
    "print(f\"{s=}\")\n",
    "print(f\"s(A+B)=\\n{resL}\")\n",
    "print(f\"sA+sB=\\n{resR}\")\n",
    "# print(f\"resR-resL=\\n{diff}\")"
   ]
  },
  {
   "cell_type": "markdown",
   "metadata": {},
   "source": [
    "# VIDEO: Transpose"
   ]
  },
  {
   "cell_type": "code",
   "execution_count": 26,
   "metadata": {},
   "outputs": [
    {
     "name": "stdout",
     "output_type": "stream",
     "text": [
      "[[1 2 3]\n",
      " [2 3 4]]\n",
      "\n",
      "[[1 2]\n",
      " [2 3]\n",
      " [3 4]]\n",
      "\n",
      "[[1 2 3]\n",
      " [2 3 4]]\n",
      "\n",
      "[[1 2]\n",
      " [2 3]\n",
      " [3 4]]\n"
     ]
    }
   ],
   "source": [
    "M = np.array([ [1,2,3],\n",
    "               [2,3,4] ])\n",
    "\n",
    "print(M), print('')\n",
    "print(M.T), print('') # one transpose\n",
    "print(M.T.T), print('') # double-transpose returns the original matrix\n",
    "\n",
    "# can also use the function transpose\n",
    "print(np.transpose(M))"
   ]
  },
  {
   "cell_type": "code",
   "execution_count": 29,
   "metadata": {},
   "outputs": [
    {
     "name": "stdout",
     "output_type": "stream",
     "text": [
      "[[4.+1.j 3.+0.j 2.-4.j]]\n",
      "\n",
      "[[4.+1.j]\n",
      " [3.+0.j]\n",
      " [2.-4.j]]\n",
      "\n",
      "[[4.+1.j]\n",
      " [3.+0.j]\n",
      " [2.-4.j]]\n",
      "\n",
      "[[4.-1.j]\n",
      " [3.-0.j]\n",
      " [2.+4.j]]\n"
     ]
    }
   ],
   "source": [
    "# warning! be careful when using complex matrices\n",
    "C = np.array([ [4+1j , 3 , 2-4j] ])\n",
    "\n",
    "print(C), print('')\n",
    "print(C.T), print('')\n",
    "print(np.transpose(C)), print('')\n",
    "\n",
    "# Note: In MATLAB, the transpose is the Hermitian transpose; \n",
    "#       in Python, you need to call the Hermitian explicitly by first converting from an array into a matrix\n",
    "print(C.conjugate().T) # note the sign flips!\n",
    "# Another note: the code I used in the video will soon be depreciated; use the above line instead."
   ]
  },
  {
   "cell_type": "markdown",
   "metadata": {},
   "source": [
    "\n",
    "---\n",
    "# VIDEO: Diagonal and trace\n",
    "---\n"
   ]
  },
  {
   "cell_type": "code",
   "execution_count": 60,
   "metadata": {},
   "outputs": [
    {
     "name": "stdout",
     "output_type": "stream",
     "text": [
      "[[  1.   6.  -1.  14.]\n",
      " [  3.   1.  -2. -16.]\n",
      " [ -1.   1.  -7.  -2.]\n",
      " [  0.   3.   1.  -7.]]\n",
      " \n",
      "[ 1.  1. -7. -7.]\n",
      "[[ 1.  0.  0.  0.]\n",
      " [ 0.  1.  0.  0.]\n",
      " [ 0.  0. -7.  0.]\n",
      " [ 0.  0.  0. -7.]]\n",
      " \n",
      "-12.0 -12.0\n"
     ]
    }
   ],
   "source": [
    "\n",
    "M = np.round( 6*np.random.randn(4,4) )\n",
    "print(M), print(' ')\n",
    "# extract the diagonals\n",
    "d = np.diag(M)\n",
    "# notice the two ways of using the diag function\n",
    "d = np.diag(M) # input is matrix, output is vector\n",
    "D = np.diag(d) # input is vector, output is matrix\n",
    "print(d)\n",
    "print(D), print(' ')\n",
    "# trace as sum of diagonal elements\n",
    "tr = np.trace(M)\n",
    "tr2 = sum( np.diag(M) )\n",
    "print(tr,tr2)"
   ]
  },
  {
   "cell_type": "markdown",
   "metadata": {},
   "source": [
    "## Code challenges: Linearity of trace"
   ]
  },
  {
   "cell_type": "code",
   "execution_count": 68,
   "metadata": {},
   "outputs": [
    {
     "name": "stdout",
     "output_type": "stream",
     "text": [
      "-18.0\n",
      "-18.0\n",
      "---\n",
      "l=0.7673177940373399\n",
      "-3.8365889701866998\n",
      "-3.8365889701866998\n"
     ]
    }
   ],
   "source": [
    "A = np.round( 6*np.random.randn(4,4) )\n",
    "B = np.round( 6*np.random.randn(4,4) )\n",
    "print(np.trace(A)+np.trace(B))\n",
    "print(np.trace(A+B))\n",
    "print('---')\n",
    "\n",
    "# scaler\n",
    "l = np.random.rand()\n",
    "print(f\"{l=}\")\n",
    "print(np.trace(l*A))\n",
    "print(l*np.trace(A))"
   ]
  },
  {
   "cell_type": "markdown",
   "metadata": {},
   "source": [
    "\n",
    "---\n",
    "# VIDEO: Broadcasting matrix arithmetic\n",
    "---\n"
   ]
  },
  {
   "cell_type": "code",
   "execution_count": 69,
   "metadata": {},
   "outputs": [
    {
     "data": {
      "text/plain": [
       "array([ 1,  2,  3,  4,  5,  6,  7,  8,  9, 10, 11, 12])"
      ]
     },
     "execution_count": 69,
     "metadata": {},
     "output_type": "execute_result"
    }
   ],
   "source": [
    "np.arange(1,13)"
   ]
  },
  {
   "cell_type": "code",
   "execution_count": 70,
   "metadata": {},
   "outputs": [
    {
     "data": {
      "text/plain": [
       "array([[ 1,  4,  7, 10],\n",
       "       [ 2,  5,  8, 11],\n",
       "       [ 3,  6,  9, 12]])"
      ]
     },
     "execution_count": 70,
     "metadata": {},
     "output_type": "execute_result"
    }
   ],
   "source": [
    "np.reshape(np.arange(1,13),(3,4),'F')"
   ]
  },
  {
   "cell_type": "code",
   "execution_count": 71,
   "metadata": {},
   "outputs": [
    {
     "data": {
      "text/plain": [
       "array([[ 1,  2,  3,  4],\n",
       "       [ 5,  6,  7,  8],\n",
       "       [ 9, 10, 11, 12]])"
      ]
     },
     "execution_count": 71,
     "metadata": {},
     "output_type": "execute_result"
    }
   ],
   "source": [
    "np.reshape(np.arange(1,13),(3,4),'C')"
   ]
  },
  {
   "cell_type": "code",
   "execution_count": 72,
   "metadata": {},
   "outputs": [
    {
     "name": "stdout",
     "output_type": "stream",
     "text": [
      "[[ 1  4  7 10]\n",
      " [ 2  5  8 11]\n",
      " [ 3  6  9 12]]\n",
      " \n",
      "[10, 20, 30, 40]\n",
      " \n",
      "[100, 200, 300]\n",
      " \n"
     ]
    }
   ],
   "source": [
    "# create a matrix\n",
    "A = np.reshape(np.arange(1,13),(3,4),'F') # F=column, C=row\n",
    "\n",
    "# and two vectors\n",
    "r = [ 10, 20, 30, 40 ]\n",
    "c = [ 100, 200, 300 ]\n",
    "\n",
    "print(A), print(' ')\n",
    "print(r), print(' ')\n",
    "print(c), print(' ');"
   ]
  },
  {
   "cell_type": "code",
   "execution_count": 74,
   "metadata": {},
   "outputs": [
    {
     "name": "stdout",
     "output_type": "stream",
     "text": [
      "[[11 24 37 50]\n",
      " [12 25 38 51]\n",
      " [13 26 39 52]]\n",
      " \n"
     ]
    },
    {
     "data": {
      "text/plain": [
       "(None, None)"
      ]
     },
     "execution_count": 74,
     "metadata": {},
     "output_type": "execute_result"
    }
   ],
   "source": [
    "# broadcast on the rows\n",
    "print(A+r), print(' ')"
   ]
  },
  {
   "cell_type": "code",
   "execution_count": 80,
   "metadata": {},
   "outputs": [
    {
     "name": "stdout",
     "output_type": "stream",
     "text": [
      "[[100]\n",
      " [200]\n",
      " [300]]\n",
      "\n",
      "[[101 104 107 110]\n",
      " [202 205 208 211]\n",
      " [303 306 309 312]]\n"
     ]
    }
   ],
   "source": [
    "# broadcast on the columns\n",
    "# print(A+c) # this does not work\n",
    "print(np.reshape(c,(len(c),1))), print('') # explicityly say it is a column verctor\n",
    "print(A+np.reshape(c,(len(c),1))) # only works for explicit column vectors"
   ]
  }
 ],
 "metadata": {
  "kernelspec": {
   "display_name": "Python 3",
   "language": "python",
   "name": "python3"
  },
  "language_info": {
   "codemirror_mode": {
    "name": "ipython",
    "version": 3
   },
   "file_extension": ".py",
   "mimetype": "text/x-python",
   "name": "python",
   "nbconvert_exporter": "python",
   "pygments_lexer": "ipython3",
   "version": "3.8.5"
  }
 },
 "nbformat": 4,
 "nbformat_minor": 4
}
