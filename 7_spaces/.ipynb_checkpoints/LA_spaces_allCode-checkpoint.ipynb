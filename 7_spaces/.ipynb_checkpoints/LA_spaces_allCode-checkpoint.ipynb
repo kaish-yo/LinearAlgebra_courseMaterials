{
 "cells": [
  {
   "cell_type": "markdown",
   "metadata": {},
   "source": [
    "#     COURSE: Linear algebra: theory and implementation\n",
    "##    SECTION: Matrix spaces\n",
    "\n",
    "#### Instructor: sincxpress.com\n",
    "##### Course url: https://www.udemy.com/course/linear-algebra-theory-and-implementation/?couponCode=202110"
   ]
  },
  {
   "cell_type": "code",
   "execution_count": 11,
   "metadata": {},
   "outputs": [],
   "source": [
    "import numpy as np\n",
    "import matplotlib.pyplot as plt\n",
    "import math\n",
    "from mpl_toolkits.mplot3d import Axes3D\n",
    "from scipy.linalg import null_space"
   ]
  },
  {
   "cell_type": "code",
   "execution_count": 6,
   "metadata": {},
   "outputs": [
    {
     "data": {
      "image/png": "[encoded data removed]",
      "text/plain": [
       "<Figure size 432x288 with 1 Axes>"
      ]
     },
     "metadata": {
      "needs_background": "light"
     },
     "output_type": "display_data"
    }
   ],
   "source": [
    "# matrix S\n",
    "S = np.array( [ [3,0],\n",
    "                [5,2],\n",
    "                [1,2] ] )\n",
    "\n",
    "# vector v\n",
    "# v = np.array([[-3], [1], [5]]) null_space span\n",
    "v = np.array([[1], [7], [3]]) # not in the span\n",
    "\n",
    "\n",
    "fig = plt.figure()\n",
    "ax = fig.gca(projection='3d')\n",
    "\n",
    "# draw plane corresponding to the column space\n",
    "xx, yy = np.meshgrid(np.linspace(-5,5,10),np.linspace(-5,5,10))\n",
    "cp = np.cross(S[:,0],S[:,1])\n",
    "z1 = (-cp[0]*xx - cp[1]*yy)/cp[2]\n",
    "ax.plot_surface(xx,yy,z1,alpha=.2)\n",
    "\n",
    "\n",
    "## plot the two vectors from matrix S\n",
    "ax.plot([0, S[0,0]],[0, S[1,0]],[0, S[2,0]],'k')\n",
    "ax.plot([0, S[0,1]],[0, S[1,1]],[0, S[2,1]],'k')\n",
    "\n",
    "# and the vector v\n",
    "ax.plot([0, v[0]],[0, v[1]],[0, v[2]],'r')\n",
    "\n",
    "\n",
    "ax.view_init(elev=150,azim=0)\n",
    "plt.show()"
   ]
  },
  {
   "cell_type": "code",
   "execution_count": 41,
   "metadata": {},
   "outputs": [
    {
     "name": "stdout",
     "output_type": "stream",
     "text": [
      "[[ 0.45000738  0.54855954  0.46901572  0.38816622  0.22591552]\n",
      " [-1.34275854 -0.60168582 -0.70572821 -1.69666801 -1.47586477]\n",
      " [-0.10770808 -0.10328897  0.17862511 -0.02911463  0.24116156]\n",
      " [-1.19286116  0.90157775  0.39797241  0.80105323 -0.42342227]\n",
      " [-0.53922889 -2.02007536 -0.94824376 -0.87211725  0.59435231]\n",
      " [ 1.44330194 -0.32506187  1.33387159  1.70380743  3.14672873]\n",
      " [ 0.59615099  2.30523335  0.04595502  2.3558082  -0.83766551]\n",
      " [ 0.54765005  3.94058494  0.34100805  1.74853255 -2.74976858]] (8, 5)\n"
     ]
    }
   ],
   "source": [
    "A = np.random.randn(8,4) @ np.random.randn(4,5)\n",
    "\n",
    "n = null_space(A) # null space\n",
    "ln = null_space(A.T) #left null space\n",
    "\n",
    "print(A,A.shape)"
   ]
  },
  {
   "cell_type": "code",
   "execution_count": 42,
   "metadata": {},
   "outputs": [
    {
     "name": "stdout",
     "output_type": "stream",
     "text": [
      "[[ 0.14394654]\n",
      " [-0.57646452]\n",
      " [ 0.51339192]\n",
      " [ 0.33174584]\n",
      " [-0.52282069]] (5, 1)\n"
     ]
    }
   ],
   "source": [
    "print(n, n.shape)"
   ]
  },
  {
   "cell_type": "code",
   "execution_count": 43,
   "metadata": {},
   "outputs": [
    {
     "name": "stdout",
     "output_type": "stream",
     "text": [
      "[[-0.44442527 -0.5856918   0.49492726 -0.33813001]\n",
      " [ 0.06943308  0.41273265  0.69770015  0.06864678]\n",
      " [-0.20030876 -0.28200477  0.06264648  0.91860669]\n",
      " [ 0.07008806 -0.14963891 -0.12050742 -0.15012552]\n",
      " [ 0.40742788 -0.47340772  0.24423463  0.00394532]\n",
      " [ 0.36691874  0.21450385  0.36481613  0.0560637 ]\n",
      " [-0.41196277  0.26606443  0.21982348  0.06619313]\n",
      " [ 0.53130887 -0.20923988  0.09354765  0.08390212]] (8, 4)\n"
     ]
    }
   ],
   "source": [
    "print(ln, ln.shape)"
   ]
  },
  {
   "cell_type": "code",
   "execution_count": 44,
   "metadata": {},
   "outputs": [
    {
     "name": "stdout",
     "output_type": "stream",
     "text": [
      "[[-5.55111512e-17]\n",
      " [ 0.00000000e+00]\n",
      " [ 5.55111512e-17]\n",
      " [ 0.00000000e+00]\n",
      " [ 1.11022302e-16]\n",
      " [ 0.00000000e+00]\n",
      " [-3.33066907e-16]\n",
      " [-4.44089210e-16]] (8, 1)\n"
     ]
    }
   ],
   "source": [
    "print(A@n, (A@n).shape) "
   ]
  },
  {
   "cell_type": "code",
   "execution_count": 45,
   "metadata": {},
   "outputs": [
    {
     "name": "stdout",
     "output_type": "stream",
     "text": [
      "[[-4.08205502e-16  4.95142315e-16  1.69773994e-15 -8.33442337e-16\n",
      "   3.17503369e-16]\n",
      " [-5.61184224e-16  6.92585599e-17  2.47896178e-16 -2.25064700e-17\n",
      "   1.02704802e-16]\n",
      " [ 2.94283516e-16 -4.53868544e-16 -3.80381449e-16 -5.25670087e-16\n",
      "  -1.41073984e-16]\n",
      " [-1.93798145e-16  5.36372316e-16  2.04592610e-16  2.49159868e-16\n",
      "  -3.55249893e-16]] (4, 5)\n"
     ]
    }
   ],
   "source": [
    "print(ln.T@A, (ln.T@A).shape)"
   ]
  },
  {
   "cell_type": "code",
   "execution_count": null,
   "metadata": {},
   "outputs": [],
   "source": []
  },
  {
   "cell_type": "code",
   "execution_count": null,
   "metadata": {},
   "outputs": [],
   "source": []
  }
 ],
 "metadata": {
  "kernelspec": {
   "display_name": "Python 3",
   "language": "python",
   "name": "python3"
  },
  "language_info": {
   "codemirror_mode": {
    "name": "ipython",
    "version": 3
   },
   "file_extension": ".py",
   "mimetype": "text/x-python",
   "name": "python",
   "nbconvert_exporter": "python",
   "pygments_lexer": "ipython3",
   "version": "3.8.5"
  }
 },
 "nbformat": 4,
 "nbformat_minor": 4
}
